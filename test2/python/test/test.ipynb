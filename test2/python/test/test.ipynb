{
 "cells": [
  {
   "cell_type": "code",
   "execution_count": 9,
   "id": "initial_id",
   "metadata": {
    "collapsed": true,
    "ExecuteTime": {
     "end_time": "2023-08-03T06:13:26.453085500Z",
     "start_time": "2023-08-03T06:13:26.444079100Z"
    }
   },
   "outputs": [],
   "source": [
    "import rdflib\n",
    "from rdflib import Graph, Literal, Namespace\n",
    "import graphviz"
   ]
  },
  {
   "cell_type": "code",
   "execution_count": 3,
   "outputs": [],
   "source": [
    "rdf_data = \"\"\"\n",
    "<rdf:RDF xmlns:rdf=\"http://www.w3.org/1999/02/22-rdf-syntax-ns#\"\n",
    "         xmlns:nba_players=\"http://nba-players.com/profile/\">\n",
    "    <rdf:Description rdf:about=\"http://nba-players.com/profile/duncanrobinson\">\n",
    "        <rdf:type rdf:resource=\"http://nba-players.com/profile/object\"/>\n",
    "        <nba_players:full_name>Duncan Robinson</nba_players:full_name>\n",
    "        <nba_players:rating rdf:datatype=\"http://www.w3.org/2001/XMLSchema#integer\">67</nba_players:rating>\n",
    "        <nba_players:jersey>55</nba_players:jersey>\n",
    "        <nba_players:team>Miami Heat</nba_players:team>\n",
    "        <nba_players:position>F</nba_players:position>\n",
    "        <nba_players:b_day>04/22/94</nba_players:b_day>\n",
    "        <nba_players:height rdf:datatype=\"http://www.w3.org/2001/XMLSchema#float\">2.01</nba_players:height>\n",
    "        <nba_players:weight rdf:datatype=\"http://www.w3.org/2001/XMLSchema#float\">97.5</nba_players:weight>\n",
    "        <nba_players:salary>$1,416,852</nba_players:salary>\n",
    "        <nba_players:country>USA</nba_players:country>\n",
    "        <nba_players:draft_year rdf:datatype=\"http://www.w3.org/2001/XMLSchema#integer\">2018</nba_players:draft_year>\n",
    "        <nba_players:college>Michigan</nba_players:college>\n",
    "        <nba_players:version>NBA2k20</nba_players:version>\n",
    "    </rdf:Description>\n",
    "</rdf:RDF>\n",
    "\"\"\""
   ],
   "metadata": {
    "collapsed": false,
    "ExecuteTime": {
     "end_time": "2023-08-03T06:11:32.309865100Z",
     "start_time": "2023-08-03T06:11:32.301821300Z"
    }
   },
   "id": "ff90e4709af55681"
  },
  {
   "cell_type": "code",
   "execution_count": 10,
   "outputs": [
    {
     "data": {
      "text/plain": "<Graph identifier=N545fc44991ca4684b85a847239947b44 (<class 'rdflib.graph.Graph'>)>"
     },
     "execution_count": 10,
     "metadata": {},
     "output_type": "execute_result"
    }
   ],
   "source": [
    "g = rdflib.Graph()\n",
    "g.parse(data=rdf_data, format='xml')"
   ],
   "metadata": {
    "collapsed": false,
    "ExecuteTime": {
     "end_time": "2023-08-03T06:14:06.343068800Z",
     "start_time": "2023-08-03T06:14:06.337112100Z"
    }
   },
   "id": "9b4fe261a765cc02"
  },
  {
   "cell_type": "code",
   "execution_count": 11,
   "outputs": [],
   "source": [
    "rdf_namespace = dict(g.namespaces())\n",
    "dot_graph = graphviz.Digraph(strict=True)"
   ],
   "metadata": {
    "collapsed": false,
    "ExecuteTime": {
     "end_time": "2023-08-03T06:14:13.359369200Z",
     "start_time": "2023-08-03T06:14:13.351698500Z"
    }
   },
   "id": "82b6a73adf72fe15"
  },
  {
   "cell_type": "code",
   "execution_count": 20,
   "outputs": [
    {
     "ename": "TypeError",
     "evalue": "expected string or bytes-like object, got 'float'",
     "output_type": "error",
     "traceback": [
      "\u001B[1;31m---------------------------------------------------------------------------\u001B[0m",
      "\u001B[1;31mTypeError\u001B[0m                                 Traceback (most recent call last)",
      "Cell \u001B[1;32mIn[20], line 8\u001B[0m\n\u001B[0;32m      5\u001B[0m     obj_label \u001B[38;5;241m=\u001B[39m obj\u001B[38;5;241m.\u001B[39mtoPython() \u001B[38;5;28;01mif\u001B[39;00m \u001B[38;5;28misinstance\u001B[39m(obj, rdflib\u001B[38;5;241m.\u001B[39mLiteral) \u001B[38;5;28;01melse\u001B[39;00m obj\u001B[38;5;241m.\u001B[39mn3()\n\u001B[0;32m      7\u001B[0m     dot_graph\u001B[38;5;241m.\u001B[39mnode(subj_label)\n\u001B[1;32m----> 8\u001B[0m     \u001B[43mdot_graph\u001B[49m\u001B[38;5;241;43m.\u001B[39;49m\u001B[43mnode\u001B[49m\u001B[43m(\u001B[49m\u001B[43mobj_label\u001B[49m\u001B[43m)\u001B[49m\n\u001B[0;32m     10\u001B[0m     dot_graph\u001B[38;5;241m.\u001B[39medge(subj_label, obj_label, label\u001B[38;5;241m=\u001B[39mpred_label)\n\u001B[0;32m     12\u001B[0m \u001B[38;5;66;03m# Save the DOT graph to a file\u001B[39;00m\n",
      "File \u001B[1;32m~\\AppData\\Local\\Programs\\Python\\Python311\\Lib\\site-packages\\graphviz\\_tools.py:171\u001B[0m, in \u001B[0;36mdeprecate_positional_args.<locals>.decorator.<locals>.wrapper\u001B[1;34m(*args, **kwargs)\u001B[0m\n\u001B[0;32m    162\u001B[0m     wanted \u001B[38;5;241m=\u001B[39m \u001B[38;5;124m'\u001B[39m\u001B[38;5;124m, \u001B[39m\u001B[38;5;124m'\u001B[39m\u001B[38;5;241m.\u001B[39mjoin(\u001B[38;5;124mf\u001B[39m\u001B[38;5;124m'\u001B[39m\u001B[38;5;132;01m{\u001B[39;00mname\u001B[38;5;132;01m}\u001B[39;00m\u001B[38;5;124m=\u001B[39m\u001B[38;5;132;01m{\u001B[39;00mvalue\u001B[38;5;132;01m!r}\u001B[39;00m\u001B[38;5;124m'\u001B[39m\n\u001B[0;32m    163\u001B[0m                        \u001B[38;5;28;01mfor\u001B[39;00m name, value \u001B[38;5;129;01min\u001B[39;00m deprecated\u001B[38;5;241m.\u001B[39mitems())\n\u001B[0;32m    164\u001B[0m     warnings\u001B[38;5;241m.\u001B[39mwarn(\u001B[38;5;124mf\u001B[39m\u001B[38;5;124m'\u001B[39m\u001B[38;5;124mThe signature of \u001B[39m\u001B[38;5;132;01m{\u001B[39;00mfunc\u001B[38;5;241m.\u001B[39m\u001B[38;5;18m__name__\u001B[39m\u001B[38;5;132;01m}\u001B[39;00m\u001B[38;5;124m will be reduced\u001B[39m\u001B[38;5;124m'\u001B[39m\n\u001B[0;32m    165\u001B[0m                   \u001B[38;5;124mf\u001B[39m\u001B[38;5;124m'\u001B[39m\u001B[38;5;124m to \u001B[39m\u001B[38;5;132;01m{\u001B[39;00msupported_number\u001B[38;5;132;01m}\u001B[39;00m\u001B[38;5;124m positional args\u001B[39m\u001B[38;5;124m'\u001B[39m\n\u001B[0;32m    166\u001B[0m                   \u001B[38;5;124mf\u001B[39m\u001B[38;5;124m'\u001B[39m\u001B[38;5;124m \u001B[39m\u001B[38;5;132;01m{\u001B[39;00m\u001B[38;5;28mlist\u001B[39m(supported)\u001B[38;5;132;01m}\u001B[39;00m\u001B[38;5;124m: pass \u001B[39m\u001B[38;5;132;01m{\u001B[39;00mwanted\u001B[38;5;132;01m}\u001B[39;00m\u001B[38;5;124m'\u001B[39m\n\u001B[0;32m    167\u001B[0m                   \u001B[38;5;124m'\u001B[39m\u001B[38;5;124m as keyword arg(s)\u001B[39m\u001B[38;5;124m'\u001B[39m,\n\u001B[0;32m    168\u001B[0m                   stacklevel\u001B[38;5;241m=\u001B[39mstacklevel,\n\u001B[0;32m    169\u001B[0m                   category\u001B[38;5;241m=\u001B[39mcategory)\n\u001B[1;32m--> 171\u001B[0m \u001B[38;5;28;01mreturn\u001B[39;00m \u001B[43mfunc\u001B[49m\u001B[43m(\u001B[49m\u001B[38;5;241;43m*\u001B[39;49m\u001B[43margs\u001B[49m\u001B[43m,\u001B[49m\u001B[43m \u001B[49m\u001B[38;5;241;43m*\u001B[39;49m\u001B[38;5;241;43m*\u001B[39;49m\u001B[43mkwargs\u001B[49m\u001B[43m)\u001B[49m\n",
      "File \u001B[1;32m~\\AppData\\Local\\Programs\\Python\\Python311\\Lib\\site-packages\\graphviz\\dot.py:195\u001B[0m, in \u001B[0;36mDot.node\u001B[1;34m(self, name, label, _attributes, **attrs)\u001B[0m\n\u001B[0;32m    184\u001B[0m \u001B[38;5;129m@_tools\u001B[39m\u001B[38;5;241m.\u001B[39mdeprecate_positional_args(supported_number\u001B[38;5;241m=\u001B[39m\u001B[38;5;241m3\u001B[39m)\n\u001B[0;32m    185\u001B[0m \u001B[38;5;28;01mdef\u001B[39;00m \u001B[38;5;21mnode\u001B[39m(\u001B[38;5;28mself\u001B[39m, name: \u001B[38;5;28mstr\u001B[39m,\n\u001B[0;32m    186\u001B[0m          label: typing\u001B[38;5;241m.\u001B[39mOptional[\u001B[38;5;28mstr\u001B[39m] \u001B[38;5;241m=\u001B[39m \u001B[38;5;28;01mNone\u001B[39;00m,\n\u001B[0;32m    187\u001B[0m          _attributes\u001B[38;5;241m=\u001B[39m\u001B[38;5;28;01mNone\u001B[39;00m, \u001B[38;5;241m*\u001B[39m\u001B[38;5;241m*\u001B[39mattrs) \u001B[38;5;241m-\u001B[39m\u001B[38;5;241m>\u001B[39m \u001B[38;5;28;01mNone\u001B[39;00m:\n\u001B[0;32m    188\u001B[0m \u001B[38;5;250m    \u001B[39m\u001B[38;5;124;03m\"\"\"Create a node.\u001B[39;00m\n\u001B[0;32m    189\u001B[0m \n\u001B[0;32m    190\u001B[0m \u001B[38;5;124;03m    Args:\u001B[39;00m\n\u001B[1;32m   (...)\u001B[0m\n\u001B[0;32m    193\u001B[0m \u001B[38;5;124;03m        attrs: Any additional node attributes (must be strings).\u001B[39;00m\n\u001B[0;32m    194\u001B[0m \u001B[38;5;124;03m    \"\"\"\u001B[39;00m\n\u001B[1;32m--> 195\u001B[0m     name \u001B[38;5;241m=\u001B[39m \u001B[38;5;28;43mself\u001B[39;49m\u001B[38;5;241;43m.\u001B[39;49m\u001B[43m_quote\u001B[49m\u001B[43m(\u001B[49m\u001B[43mname\u001B[49m\u001B[43m)\u001B[49m\n\u001B[0;32m    196\u001B[0m     attr_list \u001B[38;5;241m=\u001B[39m \u001B[38;5;28mself\u001B[39m\u001B[38;5;241m.\u001B[39m_attr_list(label, kwargs\u001B[38;5;241m=\u001B[39mattrs, attributes\u001B[38;5;241m=\u001B[39m_attributes)\n\u001B[0;32m    197\u001B[0m     line \u001B[38;5;241m=\u001B[39m \u001B[38;5;28mself\u001B[39m\u001B[38;5;241m.\u001B[39m_node(name, attr_list)\n",
      "File \u001B[1;32m~\\AppData\\Local\\Programs\\Python\\Python311\\Lib\\site-packages\\graphviz\\_tools.py:171\u001B[0m, in \u001B[0;36mdeprecate_positional_args.<locals>.decorator.<locals>.wrapper\u001B[1;34m(*args, **kwargs)\u001B[0m\n\u001B[0;32m    162\u001B[0m     wanted \u001B[38;5;241m=\u001B[39m \u001B[38;5;124m'\u001B[39m\u001B[38;5;124m, \u001B[39m\u001B[38;5;124m'\u001B[39m\u001B[38;5;241m.\u001B[39mjoin(\u001B[38;5;124mf\u001B[39m\u001B[38;5;124m'\u001B[39m\u001B[38;5;132;01m{\u001B[39;00mname\u001B[38;5;132;01m}\u001B[39;00m\u001B[38;5;124m=\u001B[39m\u001B[38;5;132;01m{\u001B[39;00mvalue\u001B[38;5;132;01m!r}\u001B[39;00m\u001B[38;5;124m'\u001B[39m\n\u001B[0;32m    163\u001B[0m                        \u001B[38;5;28;01mfor\u001B[39;00m name, value \u001B[38;5;129;01min\u001B[39;00m deprecated\u001B[38;5;241m.\u001B[39mitems())\n\u001B[0;32m    164\u001B[0m     warnings\u001B[38;5;241m.\u001B[39mwarn(\u001B[38;5;124mf\u001B[39m\u001B[38;5;124m'\u001B[39m\u001B[38;5;124mThe signature of \u001B[39m\u001B[38;5;132;01m{\u001B[39;00mfunc\u001B[38;5;241m.\u001B[39m\u001B[38;5;18m__name__\u001B[39m\u001B[38;5;132;01m}\u001B[39;00m\u001B[38;5;124m will be reduced\u001B[39m\u001B[38;5;124m'\u001B[39m\n\u001B[0;32m    165\u001B[0m                   \u001B[38;5;124mf\u001B[39m\u001B[38;5;124m'\u001B[39m\u001B[38;5;124m to \u001B[39m\u001B[38;5;132;01m{\u001B[39;00msupported_number\u001B[38;5;132;01m}\u001B[39;00m\u001B[38;5;124m positional args\u001B[39m\u001B[38;5;124m'\u001B[39m\n\u001B[0;32m    166\u001B[0m                   \u001B[38;5;124mf\u001B[39m\u001B[38;5;124m'\u001B[39m\u001B[38;5;124m \u001B[39m\u001B[38;5;132;01m{\u001B[39;00m\u001B[38;5;28mlist\u001B[39m(supported)\u001B[38;5;132;01m}\u001B[39;00m\u001B[38;5;124m: pass \u001B[39m\u001B[38;5;132;01m{\u001B[39;00mwanted\u001B[38;5;132;01m}\u001B[39;00m\u001B[38;5;124m'\u001B[39m\n\u001B[0;32m    167\u001B[0m                   \u001B[38;5;124m'\u001B[39m\u001B[38;5;124m as keyword arg(s)\u001B[39m\u001B[38;5;124m'\u001B[39m,\n\u001B[0;32m    168\u001B[0m                   stacklevel\u001B[38;5;241m=\u001B[39mstacklevel,\n\u001B[0;32m    169\u001B[0m                   category\u001B[38;5;241m=\u001B[39mcategory)\n\u001B[1;32m--> 171\u001B[0m \u001B[38;5;28;01mreturn\u001B[39;00m \u001B[43mfunc\u001B[49m\u001B[43m(\u001B[49m\u001B[38;5;241;43m*\u001B[39;49m\u001B[43margs\u001B[49m\u001B[43m,\u001B[49m\u001B[43m \u001B[49m\u001B[38;5;241;43m*\u001B[39;49m\u001B[38;5;241;43m*\u001B[39;49m\u001B[43mkwargs\u001B[49m\u001B[43m)\u001B[49m\n",
      "File \u001B[1;32m~\\AppData\\Local\\Programs\\Python\\Python311\\Lib\\site-packages\\graphviz\\quoting.py:82\u001B[0m, in \u001B[0;36mquote\u001B[1;34m(identifier, is_html_string, is_valid_id, dot_keywords, endswith_odd_number_of_backslashes, escape_unescaped_quotes)\u001B[0m\n\u001B[0;32m     40\u001B[0m \u001B[38;5;129m@_tools\u001B[39m\u001B[38;5;241m.\u001B[39mdeprecate_positional_args(supported_number\u001B[38;5;241m=\u001B[39m\u001B[38;5;241m1\u001B[39m)\n\u001B[0;32m     41\u001B[0m \u001B[38;5;28;01mdef\u001B[39;00m \u001B[38;5;21mquote\u001B[39m(identifier: \u001B[38;5;28mstr\u001B[39m,\n\u001B[0;32m     42\u001B[0m           is_html_string\u001B[38;5;241m=\u001B[39mHTML_STRING\u001B[38;5;241m.\u001B[39mmatch,\n\u001B[1;32m   (...)\u001B[0m\n\u001B[0;32m     45\u001B[0m           endswith_odd_number_of_backslashes\u001B[38;5;241m=\u001B[39mFINAL_ODD_BACKSLASHES\u001B[38;5;241m.\u001B[39msearch,\n\u001B[0;32m     46\u001B[0m           escape_unescaped_quotes\u001B[38;5;241m=\u001B[39mESCAPE_UNESCAPED_QUOTES) \u001B[38;5;241m-\u001B[39m\u001B[38;5;241m>\u001B[39m \u001B[38;5;28mstr\u001B[39m:\n\u001B[0;32m     47\u001B[0m \u001B[38;5;250m    \u001B[39m\u001B[38;5;124mr\u001B[39m\u001B[38;5;124;03m\"\"\"Return DOT identifier from string, quote if needed.\u001B[39;00m\n\u001B[0;32m     48\u001B[0m \n\u001B[0;32m     49\u001B[0m \u001B[38;5;124;03m    >>> quote('')  # doctest: +NO_EXE\u001B[39;00m\n\u001B[1;32m   (...)\u001B[0m\n\u001B[0;32m     80\u001B[0m \u001B[38;5;124;03m    \"\\\\\\\"\"\u001B[39;00m\n\u001B[0;32m     81\u001B[0m \u001B[38;5;124;03m    \"\"\"\u001B[39;00m\n\u001B[1;32m---> 82\u001B[0m     \u001B[38;5;28;01mif\u001B[39;00m \u001B[43mis_html_string\u001B[49m\u001B[43m(\u001B[49m\u001B[43midentifier\u001B[49m\u001B[43m)\u001B[49m \u001B[38;5;129;01mand\u001B[39;00m \u001B[38;5;129;01mnot\u001B[39;00m \u001B[38;5;28misinstance\u001B[39m(identifier, NoHtml):\n\u001B[0;32m     83\u001B[0m         \u001B[38;5;28;01mpass\u001B[39;00m\n\u001B[0;32m     84\u001B[0m     \u001B[38;5;28;01melif\u001B[39;00m \u001B[38;5;129;01mnot\u001B[39;00m is_valid_id(identifier) \u001B[38;5;129;01mor\u001B[39;00m identifier\u001B[38;5;241m.\u001B[39mlower() \u001B[38;5;129;01min\u001B[39;00m dot_keywords:\n",
      "\u001B[1;31mTypeError\u001B[0m: expected string or bytes-like object, got 'float'"
     ]
    }
   ],
   "source": [
    "# Loop through the triples and add nodes and edges to the DOT graph\n",
    "for subj, pred, obj in g:\n",
    "    subj_label = subj.n3()\n",
    "    pred_label = pred.n3()\n",
    "    obj_label = obj.toPython() if isinstance(obj, rdflib.Literal) else obj.n3()\n",
    "\n",
    "    dot_graph.node(subj_label)\n",
    "    dot_graph.node(obj_label)\n",
    "\n",
    "    dot_graph.edge(subj_label, obj_label, label=pred_label)\n",
    "    \n",
    "# Save the DOT graph to a file\n",
    "dot_file = \"output.dot\"\n",
    "with open(dot_file, \"w\") as f:\n",
    "    f.write(dot_graph.source)\n",
    "\n",
    "# Visualize the DOT graph using Graphviz\n",
    "graphviz.render('dot', 'png', dot_file)"
   ],
   "metadata": {
    "collapsed": false,
    "ExecuteTime": {
     "end_time": "2023-08-03T06:20:02.907179500Z",
     "start_time": "2023-08-03T06:20:02.820566600Z"
    }
   },
   "id": "9d2f4bf97311fef"
  }
 ],
 "metadata": {
  "kernelspec": {
   "display_name": "Python 3",
   "language": "python",
   "name": "python3"
  },
  "language_info": {
   "codemirror_mode": {
    "name": "ipython",
    "version": 2
   },
   "file_extension": ".py",
   "mimetype": "text/x-python",
   "name": "python",
   "nbconvert_exporter": "python",
   "pygments_lexer": "ipython2",
   "version": "2.7.6"
  }
 },
 "nbformat": 4,
 "nbformat_minor": 5
}
