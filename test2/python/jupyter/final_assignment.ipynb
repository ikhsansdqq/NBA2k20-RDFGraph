{
 "cells": [
  {
   "cell_type": "code",
   "execution_count": 114,
   "id": "initial_id",
   "metadata": {
    "collapsed": true,
    "ExecuteTime": {
     "end_time": "2023-08-02T22:46:15.870404100Z",
     "start_time": "2023-08-02T22:46:15.823638500Z"
    }
   },
   "outputs": [],
   "source": [
    "import pandas as pd"
   ]
  },
  {
   "cell_type": "code",
   "execution_count": 115,
   "outputs": [],
   "source": [
    "df = pd.read_csv('../../src/data/nba2k_data.csv')"
   ],
   "metadata": {
    "collapsed": false,
    "ExecuteTime": {
     "end_time": "2023-08-02T22:46:15.891424400Z",
     "start_time": "2023-08-02T22:46:15.827156900Z"
    }
   },
   "id": "51f619f88c5dfdcd"
  },
  {
   "cell_type": "code",
   "execution_count": 116,
   "outputs": [],
   "source": [
    "df.drop(columns=['draft_peak', 'draft_round'], inplace=True)\n",
    "df.to_csv('../../src/data/nba2k_new.csv', index=False)"
   ],
   "metadata": {
    "collapsed": false,
    "ExecuteTime": {
     "end_time": "2023-08-02T22:46:15.891424400Z",
     "start_time": "2023-08-02T22:46:15.836484800Z"
    }
   },
   "id": "638eaaee7d36baff"
  },
  {
   "cell_type": "code",
   "execution_count": 117,
   "outputs": [],
   "source": [
    "nd = pd.read_csv('../../src/data/nba2k_new.csv')"
   ],
   "metadata": {
    "collapsed": false,
    "ExecuteTime": {
     "end_time": "2023-08-02T22:46:15.892424800Z",
     "start_time": "2023-08-02T22:46:15.843195700Z"
    }
   },
   "id": "d02fa4afc116a044"
  },
  {
   "cell_type": "markdown",
   "source": [
    "______"
   ],
   "metadata": {
    "collapsed": false
   },
   "id": "998a054dc7b2297c"
  },
  {
   "cell_type": "code",
   "execution_count": 118,
   "outputs": [
    {
     "data": {
      "text/plain": "               full_name  rating jersey                  team position  \\\n0           LeBron James      97    #23    Los Angeles Lakers        F   \n1          Kawhi Leonard      97     #2  Los Angeles Clippers        F   \n2  Giannis Antetokounmpo      96    #34       Milwaukee Bucks      F-G   \n3           Kevin Durant      96     #7         Brooklyn Nets        F   \n4           James Harden      96    #13       Houston Rockets        G   \n\n      b_day       height                weight     salary country  draft_year  \\\n0  12/30/84   6-9 / 2.06  250 lbs. / 113.4 kg.  $37436858     USA        2003   \n1  06/29/91   6-7 / 2.01  225 lbs. / 102.1 kg.  $32742000     USA        2011   \n2  12/06/94  6-11 / 2.11  242 lbs. / 109.8 kg.  $25842697  Greece        2013   \n3  09/29/88  6-10 / 2.08  230 lbs. / 104.3 kg.  $37199000     USA        2007   \n4  08/26/89   6-5 / 1.96   220 lbs. / 99.8 kg.  $38199000     USA        2009   \n\n           college  version  \n0              NaN  NBA2k20  \n1  San Diego State  NBA2k20  \n2              NaN  NBA2k20  \n3            Texas  NBA2k20  \n4    Arizona State  NBA2k20  ",
      "text/html": "<div>\n<style scoped>\n    .dataframe tbody tr th:only-of-type {\n        vertical-align: middle;\n    }\n\n    .dataframe tbody tr th {\n        vertical-align: top;\n    }\n\n    .dataframe thead th {\n        text-align: right;\n    }\n</style>\n<table border=\"1\" class=\"dataframe\">\n  <thead>\n    <tr style=\"text-align: right;\">\n      <th></th>\n      <th>full_name</th>\n      <th>rating</th>\n      <th>jersey</th>\n      <th>team</th>\n      <th>position</th>\n      <th>b_day</th>\n      <th>height</th>\n      <th>weight</th>\n      <th>salary</th>\n      <th>country</th>\n      <th>draft_year</th>\n      <th>college</th>\n      <th>version</th>\n    </tr>\n  </thead>\n  <tbody>\n    <tr>\n      <th>0</th>\n      <td>LeBron James</td>\n      <td>97</td>\n      <td>#23</td>\n      <td>Los Angeles Lakers</td>\n      <td>F</td>\n      <td>12/30/84</td>\n      <td>6-9 / 2.06</td>\n      <td>250 lbs. / 113.4 kg.</td>\n      <td>$37436858</td>\n      <td>USA</td>\n      <td>2003</td>\n      <td>NaN</td>\n      <td>NBA2k20</td>\n    </tr>\n    <tr>\n      <th>1</th>\n      <td>Kawhi Leonard</td>\n      <td>97</td>\n      <td>#2</td>\n      <td>Los Angeles Clippers</td>\n      <td>F</td>\n      <td>06/29/91</td>\n      <td>6-7 / 2.01</td>\n      <td>225 lbs. / 102.1 kg.</td>\n      <td>$32742000</td>\n      <td>USA</td>\n      <td>2011</td>\n      <td>San Diego State</td>\n      <td>NBA2k20</td>\n    </tr>\n    <tr>\n      <th>2</th>\n      <td>Giannis Antetokounmpo</td>\n      <td>96</td>\n      <td>#34</td>\n      <td>Milwaukee Bucks</td>\n      <td>F-G</td>\n      <td>12/06/94</td>\n      <td>6-11 / 2.11</td>\n      <td>242 lbs. / 109.8 kg.</td>\n      <td>$25842697</td>\n      <td>Greece</td>\n      <td>2013</td>\n      <td>NaN</td>\n      <td>NBA2k20</td>\n    </tr>\n    <tr>\n      <th>3</th>\n      <td>Kevin Durant</td>\n      <td>96</td>\n      <td>#7</td>\n      <td>Brooklyn Nets</td>\n      <td>F</td>\n      <td>09/29/88</td>\n      <td>6-10 / 2.08</td>\n      <td>230 lbs. / 104.3 kg.</td>\n      <td>$37199000</td>\n      <td>USA</td>\n      <td>2007</td>\n      <td>Texas</td>\n      <td>NBA2k20</td>\n    </tr>\n    <tr>\n      <th>4</th>\n      <td>James Harden</td>\n      <td>96</td>\n      <td>#13</td>\n      <td>Houston Rockets</td>\n      <td>G</td>\n      <td>08/26/89</td>\n      <td>6-5 / 1.96</td>\n      <td>220 lbs. / 99.8 kg.</td>\n      <td>$38199000</td>\n      <td>USA</td>\n      <td>2009</td>\n      <td>Arizona State</td>\n      <td>NBA2k20</td>\n    </tr>\n  </tbody>\n</table>\n</div>"
     },
     "execution_count": 118,
     "metadata": {},
     "output_type": "execute_result"
    }
   ],
   "source": [
    "nd.head(5)"
   ],
   "metadata": {
    "collapsed": false,
    "ExecuteTime": {
     "end_time": "2023-08-02T22:46:15.927426300Z",
     "start_time": "2023-08-02T22:46:15.849241Z"
    }
   },
   "id": "2e67642ebcaf283f"
  },
  {
   "cell_type": "code",
   "execution_count": 119,
   "outputs": [],
   "source": [
    "from rdflib import Graph, Literal, Namespace, RDF, URIRef, FOAF, XSD\n",
    "import urllib.parse\n",
    "import re"
   ],
   "metadata": {
    "collapsed": false,
    "ExecuteTime": {
     "end_time": "2023-08-02T22:46:15.927426300Z",
     "start_time": "2023-08-02T22:46:15.859316500Z"
    }
   },
   "id": "28021733c8b52d4c"
  },
  {
   "cell_type": "code",
   "execution_count": 120,
   "outputs": [],
   "source": [
    "def create_uri(name):\n",
    "    name = name.lower()\n",
    "    name = re.sub(r'\\W+', '', name)\n",
    "    return name"
   ],
   "metadata": {
    "collapsed": false,
    "ExecuteTime": {
     "end_time": "2023-08-02T22:46:15.927426300Z",
     "start_time": "2023-08-02T22:46:15.861717800Z"
    }
   },
   "id": "a15c0193d2a485e9"
  },
  {
   "cell_type": "code",
   "execution_count": 121,
   "outputs": [],
   "source": [
    "graph = Graph()\n",
    "ns = Namespace(\"http://nba-players.com/profile/\")\n",
    "rdf = RDF"
   ],
   "metadata": {
    "collapsed": false,
    "ExecuteTime": {
     "end_time": "2023-08-02T22:46:15.927426300Z",
     "start_time": "2023-08-02T22:46:15.866987400Z"
    }
   },
   "id": "6b2dbc13b03281e1"
  },
  {
   "cell_type": "code",
   "execution_count": 122,
   "outputs": [],
   "source": [
    "graph.bind(\"nba_players\", ns)\n",
    "graph.bind(\"foaf\", FOAF)"
   ],
   "metadata": {
    "collapsed": false,
    "ExecuteTime": {
     "end_time": "2023-08-02T22:46:15.927426300Z",
     "start_time": "2023-08-02T22:46:15.873920Z"
    }
   },
   "id": "2d9d63fbcde4ddef"
  },
  {
   "cell_type": "code",
   "execution_count": 123,
   "outputs": [],
   "source": [
    "processed_uri = set()"
   ],
   "metadata": {
    "collapsed": false,
    "ExecuteTime": {
     "end_time": "2023-08-02T22:46:15.927426300Z",
     "start_time": "2023-08-02T22:46:15.880694100Z"
    }
   },
   "id": "c4095913a81caf9"
  },
  {
   "cell_type": "code",
   "execution_count": 129,
   "outputs": [
    {
     "name": "stdout",
     "output_type": "stream",
     "text": [
      "File written success.\n"
     ]
    }
   ],
   "source": [
    "try:\n",
    "    for index, row in nd.iterrows():\n",
    "        full_name_uri = create_uri(row['full_name'])\n",
    "\n",
    "        if full_name_uri in processed_uri:\n",
    "            continue\n",
    "\n",
    "        processed_uri.add(full_name_uri)\n",
    "\n",
    "        player_uri = URIRef(ns[full_name_uri])\n",
    "        graph.add((player_uri, RDF.type, ns['object']))\n",
    "\n",
    "        graph.add((player_uri, ns['full_name'], Literal(row['full_name'])))\n",
    "        graph.add((player_uri, ns['rating'], Literal(row['rating'], datatype=XSD.integer)))\n",
    "        graph.add((player_uri, ns['jersey'], Literal(row['jersey'].lstrip('#'))))\n",
    "        graph.add((player_uri, ns['team'], Literal(row['team'])))\n",
    "        graph.add((player_uri, ns['position'], Literal(row['position'])))\n",
    "        graph.add((player_uri, ns['b_day'], Literal(row['b_day'])))\n",
    "\n",
    "        height_data = row['height']\n",
    "        height_value_meters = float(height_data.split('/')[1].strip())\n",
    "        graph.add((player_uri, ns['height'], Literal(height_value_meters, datatype=XSD.float)))\n",
    "\n",
    "        weight_data = row['weight']\n",
    "        weight_value_kg = float(weight_data.split('/')[1].strip().split()[0])  # Extract weight in kilograms\n",
    "        graph.add((player_uri, ns['weight'], Literal(weight_value_kg, datatype=XSD.float)))\n",
    "\n",
    "        salary_data = row['salary']\n",
    "        salary_value = float(salary_data.strip('$').replace(',', ''))\n",
    "        salary_formatted = '${:,.0f}'.format(salary_value)\n",
    "        graph.add((player_uri, ns['salary'], Literal(salary_formatted)))\n",
    "\n",
    "        graph.add((player_uri, ns['country'], Literal(row['country'])))\n",
    "        graph.add((player_uri, ns['draft_year'], Literal(row['draft_year'], datatype=XSD.integer)))\n",
    "\n",
    "        college_data = row['college']\n",
    "        if pd.isna(college_data):\n",
    "            college_data = 'No College Data'\n",
    "        graph.add((player_uri, ns['college'], Literal(college_data)))\n",
    "\n",
    "        graph.add((player_uri, ns['version'], Literal(row['version'])))\n",
    "\n",
    "    rdf_file = '../../output/rdf/output.rdf'\n",
    "    graph.serialize(destination=rdf_file, format='xml')\n",
    "\n",
    "    print(f'File written success.')\n",
    "except IOError as e:\n",
    "    print(f'File is not written successfully due to {e}')"
   ],
   "metadata": {
    "collapsed": false,
    "ExecuteTime": {
     "end_time": "2023-08-02T22:52:07.889610900Z",
     "start_time": "2023-08-02T22:52:07.815352300Z"
    }
   },
   "id": "bcd5abcac7766770"
  },
  {
   "cell_type": "code",
   "execution_count": 125,
   "outputs": [],
   "source": [
    "import graphviz"
   ],
   "metadata": {
    "collapsed": false,
    "ExecuteTime": {
     "end_time": "2023-08-02T22:46:16.110332Z",
     "start_time": "2023-08-02T22:46:16.100817Z"
    }
   },
   "id": "83e0a32c953c76e4"
  },
  {
   "cell_type": "code",
   "execution_count": 128,
   "outputs": [
    {
     "name": "stdout",
     "output_type": "stream",
     "text": [
      "Visualization saved as output_graph.svg\n"
     ]
    }
   ],
   "source": [
    "rdf_file = '../../output/rdf/output.rdf'\n",
    "\n",
    "try:\n",
    "    graph.parse(rdf_file, format='xml')\n",
    "\n",
    "    gv_graph = graphviz.Graph(strict=True, format='svg', engine='neato')\n",
    "    node_labels = {}\n",
    "\n",
    "    for subject, predicate, obj in graph:\n",
    "        subject_str = str(subject)\n",
    "        predicate_str = str(predicate)\n",
    "        obj_str = str(obj)\n",
    "    \n",
    "        # Get the local name from the URI\n",
    "        subject_str_local = subject_str.split(\"/\")[-1].split(\"#\")[-1]\n",
    "        obj_str_local = obj_str.split(\"/\")[-1].split(\"#\")[-1]\n",
    "    \n",
    "        # Check if the local names are valid, otherwise, use the full URIs as node labels\n",
    "        subject_label = subject_str_local if subject_str_local else subject_str\n",
    "        obj_label = obj_str_local if obj_str_local else obj_str\n",
    "    \n",
    "        # Add nodes and edges to the Graphviz graph\n",
    "        gv_graph.node(subject_label)\n",
    "        gv_graph.node(obj_label)\n",
    "        gv_graph.edge(subject_label, obj_label, label=predicate_str)\n",
    "\n",
    "    output_file = 'output_graph.svg'\n",
    "    gv_graph.render(output_file, view=True)\n",
    "\n",
    "    print(f\"Visualization saved as {output_file}\")\n",
    "except FileNotFoundError:\n",
    "    print(f'Existing file with path of {rdf_file} is not found.')"
   ],
   "metadata": {
    "collapsed": false,
    "ExecuteTime": {
     "end_time": "2023-08-02T22:48:55.398175900Z",
     "start_time": "2023-08-02T22:48:26.948073900Z"
    }
   },
   "id": "17e23231e774f193"
  },
  {
   "cell_type": "code",
   "execution_count": 126,
   "outputs": [],
   "source": [],
   "metadata": {
    "collapsed": false,
    "ExecuteTime": {
     "end_time": "2023-08-02T22:46:18.203033500Z",
     "start_time": "2023-08-02T22:46:18.198514900Z"
    }
   },
   "id": "de55c920a3e5aaaa"
  }
 ],
 "metadata": {
  "kernelspec": {
   "display_name": "Python 3",
   "language": "python",
   "name": "python3"
  },
  "language_info": {
   "codemirror_mode": {
    "name": "ipython",
    "version": 2
   },
   "file_extension": ".py",
   "mimetype": "text/x-python",
   "name": "python",
   "nbconvert_exporter": "python",
   "pygments_lexer": "ipython2",
   "version": "2.7.6"
  }
 },
 "nbformat": 4,
 "nbformat_minor": 5
}
