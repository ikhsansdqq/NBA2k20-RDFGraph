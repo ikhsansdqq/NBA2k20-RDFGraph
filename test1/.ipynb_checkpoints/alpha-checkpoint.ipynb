{
 "cells": [
  {
   "cell_type": "markdown",
   "metadata": {},
   "source": [
    "### Import Libraries"
   ]
  },
  {
   "cell_type": "code",
   "execution_count": 2,
   "metadata": {
    "ExecuteTime": {
     "end_time": "2023-07-31T14:35:11.944727600Z",
     "start_time": "2023-07-31T14:35:10.571058100Z"
    },
    "collapsed": true
   },
   "outputs": [],
   "source": [
    "import pandas as pd\n",
    "from rdflib import Graph, Literal, BNode, Namespace, RDF, RDFS, URIRef\n",
    "from rdflib.namespace import FOAF, XSD"
   ]
  },
  {
   "cell_type": "markdown",
   "metadata": {},
   "source": [
    "### Scanning Files"
   ]
  },
  {
   "cell_type": "code",
   "execution_count": 3,
   "metadata": {
    "ExecuteTime": {
     "end_time": "2023-07-31T14:35:11.955133400Z",
     "start_time": "2023-07-31T14:35:11.944727600Z"
    }
   },
   "outputs": [],
   "source": [
    "df = pd.read_csv('src/nba2k_full.csv')"
   ]
  },
  {
   "cell_type": "code",
   "execution_count": 4,
   "metadata": {
    "ExecuteTime": {
     "end_time": "2023-07-31T14:35:11.966038100Z",
     "start_time": "2023-07-31T14:35:11.954134600Z"
    }
   },
   "outputs": [
    {
     "data": {
      "text/plain": [
       "full_name       0\n",
       "rating          0\n",
       "jersey          0\n",
       "team           23\n",
       "position        0\n",
       "b_day           0\n",
       "height          0\n",
       "weight          0\n",
       "salary          0\n",
       "country         0\n",
       "draft_year      0\n",
       "draft_round     0\n",
       "draft_peak      0\n",
       "college        76\n",
       "version         0\n",
       "dtype: int64"
      ]
     },
     "execution_count": 4,
     "metadata": {},
     "output_type": "execute_result"
    }
   ],
   "source": [
    "df.isnull().sum()"
   ]
  },
  {
   "cell_type": "code",
   "execution_count": 5,
   "metadata": {
    "ExecuteTime": {
     "end_time": "2023-07-31T14:35:11.988980500Z",
     "start_time": "2023-07-31T14:35:11.964532300Z"
    }
   },
   "outputs": [
    {
     "data": {
      "text/plain": [
       "full_name      object\n",
       "rating          int64\n",
       "jersey         object\n",
       "team           object\n",
       "position       object\n",
       "b_day          object\n",
       "height         object\n",
       "weight         object\n",
       "salary         object\n",
       "country        object\n",
       "draft_year      int64\n",
       "draft_round    object\n",
       "draft_peak     object\n",
       "college        object\n",
       "version        object\n",
       "dtype: object"
      ]
     },
     "execution_count": 5,
     "metadata": {},
     "output_type": "execute_result"
    }
   ],
   "source": [
    "df.dtypes"
   ]
  },
  {
   "cell_type": "markdown",
   "metadata": {},
   "source": [
    "### Execution"
   ]
  },
  {
   "cell_type": "code",
   "execution_count": 6,
   "metadata": {
    "ExecuteTime": {
     "end_time": "2023-07-31T14:35:11.988980500Z",
     "start_time": "2023-07-31T14:35:11.970430900Z"
    }
   },
   "outputs": [],
   "source": [
    "graph = Graph()"
   ]
  },
  {
   "cell_type": "code",
   "execution_count": 7,
   "metadata": {
    "ExecuteTime": {
     "end_time": "2023-07-31T14:35:59.058029300Z",
     "start_time": "2023-07-31T14:35:59.053985300Z"
    }
   },
   "outputs": [],
   "source": [
    "example_namespace = Namespace(\"http://example.org/\")\n",
    "nba_namespace = Namespace(\"http://example.org/nba2k20#\")"
   ]
  },
  {
   "cell_type": "code",
   "execution_count": 8,
   "metadata": {
    "ExecuteTime": {
     "end_time": "2023-07-31T14:36:35.886118400Z",
     "start_time": "2023-07-31T14:36:35.880500700Z"
    }
   },
   "outputs": [],
   "source": [
    "graph.bind(\"example_namespace\", example_namespace)\n",
    "graph.bind(\"nba_namespace\", nba_namespace)\n",
    "graph.bind(\"foaf\", FOAF)"
   ]
  },
  {
   "cell_type": "code",
   "execution_count": null,
   "metadata": {},
   "outputs": [],
   "source": [
    "for _, row in df.iterrows():\n",
    "    players_uri = URIRef(example_namespace[row['full_name']])"
   ]
  }
 ],
 "metadata": {
  "kernelspec": {
   "display_name": "Python 3 (ipykernel)",
   "language": "python",
   "name": "python3"
  },
  "language_info": {
   "codemirror_mode": {
    "name": "ipython",
    "version": 3
   },
   "file_extension": ".py",
   "mimetype": "text/x-python",
   "name": "python",
   "nbconvert_exporter": "python",
   "pygments_lexer": "ipython3",
   "version": "3.11.3"
  }
 },
 "nbformat": 4,
 "nbformat_minor": 1
}
