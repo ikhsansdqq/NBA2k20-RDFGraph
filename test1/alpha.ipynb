{
 "cells": [
  {
   "cell_type": "markdown",
   "metadata": {},
   "source": [
    "### Import Libraries"
   ]
  },
  {
   "cell_type": "code",
   "execution_count": 173,
   "metadata": {
    "collapsed": true,
    "ExecuteTime": {
     "end_time": "2023-08-02T03:49:13.078404200Z",
     "start_time": "2023-08-02T03:49:13.035407100Z"
    }
   },
   "outputs": [],
   "source": [
    "import pandas as pd\n",
    "from rdflib import FOAF\n",
    "from rdflib import Namespace, Literal, Graph\n",
    "from rdflib.namespace import RDF, XSD"
   ]
  },
  {
   "cell_type": "markdown",
   "metadata": {},
   "source": [
    "### Scanning Files"
   ]
  },
  {
   "cell_type": "code",
   "execution_count": 174,
   "metadata": {
    "ExecuteTime": {
     "end_time": "2023-08-02T03:49:13.091915500Z",
     "start_time": "2023-08-02T03:49:13.045290500Z"
    }
   },
   "outputs": [],
   "source": [
    "df = pd.read_csv('src/nba2k_full.csv')"
   ]
  },
  {
   "cell_type": "code",
   "execution_count": 175,
   "metadata": {
    "ExecuteTime": {
     "end_time": "2023-08-02T03:49:13.092918300Z",
     "start_time": "2023-08-02T03:49:13.052953100Z"
    }
   },
   "outputs": [],
   "source": [
    "graph = Graph()"
   ]
  },
  {
   "cell_type": "code",
   "execution_count": 176,
   "metadata": {
    "ExecuteTime": {
     "end_time": "2023-08-02T03:49:13.094918400Z",
     "start_time": "2023-08-02T03:49:13.055466700Z"
    }
   },
   "outputs": [],
   "source": [
    "example_namespace = Namespace(\"https://nba-players.org/\")\n",
    "nba_namespace = Namespace(\"https://nba-players.org/player-dataset#\")"
   ]
  },
  {
   "cell_type": "code",
   "execution_count": 177,
   "metadata": {
    "ExecuteTime": {
     "end_time": "2023-08-02T03:49:13.142819800Z",
     "start_time": "2023-08-02T03:49:13.062963100Z"
    }
   },
   "outputs": [],
   "source": [
    "graph.bind(\"nba_namespace\", nba_namespace)\n",
    "graph.bind(\"foaf\", FOAF)"
   ]
  },
  {
   "cell_type": "code",
   "execution_count": null,
   "outputs": [],
   "source": [],
   "metadata": {
    "collapsed": false
   }
  },
  {
   "cell_type": "code",
   "execution_count": 178,
   "metadata": {
    "ExecuteTime": {
     "end_time": "2023-08-02T03:49:13.422435100Z",
     "start_time": "2023-08-02T03:49:13.069991500Z"
    }
   },
   "outputs": [
    {
     "data": {
      "text/plain": "<Graph identifier=N56d444d691a44746ad2d4591e0ed2702 (<class 'rdflib.graph.Graph'>)>"
     },
     "execution_count": 178,
     "metadata": {},
     "output_type": "execute_result"
    }
   ],
   "source": [
    "for index, row in df.iterrows():\n",
    "    player_uri = nba_namespace['player_' + str(index)]\n",
    "    graph.add((player_uri, RDF.type, nba_namespace['NBAPlayer']))\n",
    "\n",
    "    graph.add((player_uri, nba_namespace['full_name'], Literal(row['full_name'])))\n",
    "    graph.add((player_uri, nba_namespace['rating'], Literal(row['rating'], datatype=XSD.integer)))\n",
    "    graph.add((player_uri, nba_namespace['jersey'], Literal(row['jersey'].lstrip('#'))))\n",
    "    graph.add((player_uri, nba_namespace['team'], Literal(row['team'])))\n",
    "    graph.add((player_uri, nba_namespace['position'], Literal(row['position'])))\n",
    "    graph.add((player_uri, nba_namespace['b_day'], Literal(row['b_day'])))\n",
    "\n",
    "    height_data = row['height']\n",
    "    height_value_meters = float(height_data.split('/')[1].strip())\n",
    "    graph.add((player_uri, nba_namespace['height'], Literal(height_value_meters, datatype=XSD.float)))\n",
    "\n",
    "    weight_data = row['weight']\n",
    "    weight_value_kg = float(weight_data.split('/')[1].strip().split()[0])  # Extract weight in kilograms\n",
    "    graph.add((player_uri, nba_namespace['weight'], Literal(weight_value_kg, datatype=XSD.float)))\n",
    "\n",
    "    salary_data = row['salary']\n",
    "    salary_value = float(salary_data.strip('$').replace(',', ''))\n",
    "    salary_formatted = '${:,.0f}'.format(salary_value)\n",
    "    graph.add((player_uri, nba_namespace['salary'], Literal(salary_formatted)))\n",
    "\n",
    "    graph.add((player_uri, nba_namespace['country'], Literal(row['country'])))\n",
    "    graph.add((player_uri, nba_namespace['draft_year'], Literal(row['draft_year'], datatype=XSD.integer)))\n",
    "    graph.add((player_uri, nba_namespace['draft_round'], Literal(row['draft_round'])))\n",
    "    graph.add((player_uri, nba_namespace['draft_peak'], Literal(row['draft_peak'])))\n",
    "\n",
    "    college_data = row['college']\n",
    "    if pd.isna(college_data):\n",
    "        college_data = 'No College Data'\n",
    "    graph.add((player_uri, nba_namespace['college'], Literal(college_data)))\n",
    "\n",
    "    graph.add((player_uri, nba_namespace['version'], Literal(row['version'])))\n",
    "\n",
    "graph.serialize('nba-players-2.ttl', format='turtle')"
   ]
  },
  {
   "cell_type": "code",
   "execution_count": 179,
   "outputs": [],
   "source": [
    "url = 'nba-players-2.ttl'\n",
    "result = graph.parse(url, format='turtle')"
   ],
   "metadata": {
    "collapsed": false,
    "ExecuteTime": {
     "end_time": "2023-08-02T03:49:13.714554600Z",
     "start_time": "2023-08-02T03:49:13.419438800Z"
    }
   }
  },
  {
   "cell_type": "code",
   "execution_count": 180,
   "outputs": [],
   "source": [
    "def turtle_to_dot(turtle_file, dot_file):\n",
    "    graph.parse(turtle_file, format='turtle')\n",
    "\n",
    "    with open(dot_file, \"w\") as f:\n",
    "        f.write(\"digraph G {\\n\")\n",
    "        f.write('    node [shape=box];\\n')\n",
    "\n",
    "        for s, p, o in graph:\n",
    "            if p == RDF.type and o == nba_namespace.NBAPlayer:\n",
    "                full_name = str(graph.value(s, nba_namespace.full_name))\n",
    "                team = str(graph.value(s, nba_namespace.team))\n",
    "                height = str(graph.value(s, nba_namespace.height))\n",
    "                weight = str(graph.value(s, nba_namespace.weight))\n",
    "                salary = str(graph.value(s, nba_namespace.salary))\n",
    "                country = str(graph.value(s, nba_namespace.country))\n",
    "                rating = str(graph.value(s, nba_namespace.rating))\n",
    "                \n",
    "                rating_number = int(rating) if rating.isdigit() else 0\n",
    "                if rating_number > 80:\n",
    "                    f.write(f'    \"{full_name}\" -> \"{team}\" [label=\"currentTeam\"];\\n')\n",
    "                    f.write(f'    \"{full_name}\" -> \"{height}m\" [label=\"hasHeight\"];\\n')\n",
    "                    f.write(f'    \"{full_name}\" -> \"{weight}kg\" [label=\"hasWeight\"];\\n')\n",
    "                    f.write(f'    \"{full_name}\" -> \"{rating}\" [label=\"ratingNumber\"];\\n')\n",
    "                    f.write(f'    \"{full_name}\" -> \"{salary}\" [label=\"annualSalary\"];\\n')\n",
    "                    f.write(f'    \"{full_name}\" -> \"{country}\" [label=\"from\"];\\n')\n",
    "\n",
    "        f.write(\"}\")\n",
    "turtle_to_dot(\"nba-players-2.ttl\", \"docs/output_final_rating_system.dot\")"
   ],
   "metadata": {
    "collapsed": false,
    "ExecuteTime": {
     "end_time": "2023-08-02T03:49:14.055624500Z",
     "start_time": "2023-08-02T03:49:13.719078400Z"
    }
   }
  },
  {
   "cell_type": "code",
   "execution_count": 181,
   "outputs": [
    {
     "data": {
      "text/plain": "<Graph identifier=N56d444d691a44746ad2d4591e0ed2702 (<class 'rdflib.graph.Graph'>)>"
     },
     "execution_count": 181,
     "metadata": {},
     "output_type": "execute_result"
    }
   ],
   "source": [
    "graph.parse('nba-players-2.ttl', format='turtle')"
   ],
   "metadata": {
    "collapsed": false,
    "ExecuteTime": {
     "end_time": "2023-08-02T03:49:14.342391300Z",
     "start_time": "2023-08-02T03:49:14.050623500Z"
    }
   }
  },
  {
   "cell_type": "code",
   "execution_count": 182,
   "outputs": [],
   "source": [
    "from rdflib.plugins.sparql import prepareQuery\n",
    "\n",
    "num_players = 20\n",
    "query = prepareQuery('''\n",
    "    PREFIX nba: <https://nba-players.org/player-dataset#>\n",
    "    SELECT ?player ?name ?team ?height ?weight ?salary\n",
    "    WHERE {\n",
    "        ?player a nba:NBAPlayer ;\n",
    "            nba:full_name ?name ;\n",
    "            nba:team ?team ;\n",
    "            nba:height ?height ;\n",
    "            nba:weight ?weight ;\n",
    "            nba:salary ?salary .\n",
    "    }\n",
    "''', initNs={'nba_namespace': nba_namespace})"
   ],
   "metadata": {
    "collapsed": false,
    "ExecuteTime": {
     "end_time": "2023-08-02T03:49:14.350911Z",
     "start_time": "2023-08-02T03:49:14.337233500Z"
    }
   }
  },
  {
   "cell_type": "code",
   "execution_count": 183,
   "outputs": [
    {
     "name": "stdout",
     "output_type": "stream",
     "text": [
      "                                            Player URI                   Name  \\\n",
      "0      https://nba-players.org/player-dataset#player_0           LeBron James   \n",
      "1      https://nba-players.org/player-dataset#player_1          Kawhi Leonard   \n",
      "2      https://nba-players.org/player-dataset#player_2  Giannis Antetokounmpo   \n",
      "3      https://nba-players.org/player-dataset#player_3           Kevin Durant   \n",
      "4      https://nba-players.org/player-dataset#player_4           James Harden   \n",
      "..                                                 ...                    ...   \n",
      "459  https://nba-players.org/player-dataset#player_459             Chris Paul   \n",
      "460  https://nba-players.org/player-dataset#player_460           Bradley Beal   \n",
      "461  https://nba-players.org/player-dataset#player_461            Rudy Gobert   \n",
      "462  https://nba-players.org/player-dataset#player_462             Kyle Lowry   \n",
      "463  https://nba-players.org/player-dataset#player_463     Kristaps Porzingis   \n",
      "\n",
      "                      Team  Height    Weight Annual Salary  \n",
      "0       Los Angeles Lakers  2.06 m  113.4 kg   $37,436,858  \n",
      "1     Los Angeles Clippers  2.01 m  102.1 kg   $32,742,000  \n",
      "2          Milwaukee Bucks  2.11 m  109.8 kg   $25,842,697  \n",
      "3            Brooklyn Nets  2.08 m  104.3 kg   $37,199,000  \n",
      "4          Houston Rockets  1.96 m   99.8 kg   $38,199,000  \n",
      "..                     ...     ...       ...           ...  \n",
      "459  Oklahoma City Thunder  1.85 m   79.4 kg   $41,358,814  \n",
      "460     Washington Wizards  1.91 m   93.9 kg   $28,751,774  \n",
      "461              Utah Jazz  2.16 m  108.0 kg   $27,525,281  \n",
      "462        Toronto Raptors  1.83 m   93.0 kg   $30,500,000  \n",
      "463       Dallas Mavericks  2.21 m   99.8 kg   $29,467,800  \n",
      "\n",
      "[464 rows x 6 columns]\n"
     ]
    }
   ],
   "source": [
    "# players_data = {}\n",
    "# results = graph.query(query)\n",
    "# for row in results.bindings:\n",
    "#     player_uri = row['player']\n",
    "#     name = row['name']\n",
    "#     team = row['team']\n",
    "#     if team != \"\":\n",
    "#         team = row['team']\n",
    "#     else:\n",
    "#         team = \"Free Agent\"\n",
    "#     height = row['height']\n",
    "#     weight = row['weight']\n",
    "#     salary = row['salary']\n",
    "#     player_index = int(player_uri.split('_')[-1])  # Extract the player index from the URI\n",
    "#     player_uri_name = name.replace(\" \", \"\")\n",
    "#     players_data[player_index] = {\n",
    "#         'Player URI': player_uri,\n",
    "#         'Player URI Name': nba_namespace[player_uri_name],\n",
    "#         'Name': name,\n",
    "#         'Current Team': team,\n",
    "#         'Height': f'{height} m',\n",
    "#         'Weight': f'{weight} kg ',\n",
    "#         'Annual Salary': salary,\n",
    "#     }\n",
    "    \n",
    "players_data = {}\n",
    "data = []\n",
    "results = graph.query(query)\n",
    "for row in results.bindings:\n",
    "    player_uri = row['player']\n",
    "    name = row['name'].value\n",
    "    team = row['team'].value\n",
    "    height = row['height'].value\n",
    "    weight = row['weight'].value\n",
    "    salary = row['salary'].value\n",
    "\n",
    "    player_uri_name = name.replace(\" \", \"\")\n",
    "\n",
    "    data.append({\n",
    "        'Player URI': player_uri,\n",
    "        'Name': name,\n",
    "        'Team': team,\n",
    "        'Height': f'{height} m',\n",
    "        'Weight': f'{weight} kg',\n",
    "        'Annual Salary': salary,\n",
    "    })\n",
    "df = pd.DataFrame(data)\n",
    "print(df)"
   ],
   "metadata": {
    "collapsed": false,
    "ExecuteTime": {
     "end_time": "2023-08-02T03:49:14.410032100Z",
     "start_time": "2023-08-02T03:49:14.351910900Z"
    }
   }
  },
  {
   "cell_type": "code",
   "execution_count": 184,
   "outputs": [],
   "source": [
    "# for player_index in range(21):  # Loop from player_0 to player_10\n",
    "#     if player_index in players_data:\n",
    "#         player_info = players_data[player_index]\n",
    "#         print(f\"Player Index: {player_index}\")\n",
    "#         for key, value in player_info.items():\n",
    "#             print(f\"{key}: {value}\")\n",
    "#         print(\"-------------------\")"
   ],
   "metadata": {
    "collapsed": false,
    "ExecuteTime": {
     "end_time": "2023-08-02T03:49:14.411030Z",
     "start_time": "2023-08-02T03:49:14.407411800Z"
    }
   }
  },
  {
   "cell_type": "code",
   "execution_count": 185,
   "outputs": [],
   "source": [
    "# from graphviz import Source\n",
    "# dot_file_path = 'docs/dummy_player.dot'\n",
    "# \n",
    "# with open(dot_file_path, 'r') as dot_file:\n",
    "#     dot_data = dot_file.read()\n",
    "# \n",
    "# graph_source = Source(dot_data)\n",
    "# output = 'docs/output/final_output_test'\n",
    "# graph_source.format = 'png'\n",
    "# graph_source.render(output, view=True)"
   ],
   "metadata": {
    "collapsed": false,
    "ExecuteTime": {
     "end_time": "2023-08-02T03:49:14.417487200Z",
     "start_time": "2023-08-02T03:49:14.412028700Z"
    }
   }
  },
  {
   "cell_type": "code",
   "execution_count": null,
   "outputs": [],
   "source": [
    "from graphviz import Digraph\n",
    "from rdflib import Namespace\n",
    "\n",
    "# Define the namespace for players\n",
    "nba_namespace = Namespace(\"https://nba-players.org/player-dataset#\")\n",
    "\n",
    "# Create a Graphviz Digraph object\n",
    "graph = Digraph(strict=True)\n",
    "\n",
    "# Add nodes for players and teams\n",
    "player_uris = set()  # To keep track of player URIs\n",
    "for row in data:\n",
    "    player_uri = row['Player URI']\n",
    "    team = row['Team']\n",
    "\n",
    "    # Check if the player URI belongs to a player (in the namespace)\n",
    "    if player_uri.startswith(nba_namespace):\n",
    "        graph.node(player_uri, label=row['Name'], shape='box')\n",
    "        player_uris.add(player_uri)\n",
    "\n",
    "    # Add nodes for teams (not in the namespace)\n",
    "    if isinstance(team, str):\n",
    "        # Fix the team URI by replacing the double slash with a single slash\n",
    "        team = team.replace(\"//\", \"/\")\n",
    "        graph.node(team, shape='ellipse')\n",
    "\n",
    "# Add edges between players and their teams\n",
    "for row in data:\n",
    "    player_uri = row['Player URI']\n",
    "    team = row['Team']\n",
    "\n",
    "    # Check if the player URI belongs to a player (in the namespace)\n",
    "    if player_uri.startswith(nba_namespace) and isinstance(team, str):\n",
    "        graph.edge(player_uri, team)  # Connect player to their team\n",
    "\n",
    "# Optionally, you can print the player information\n",
    "print(\"Player Information:\")\n",
    "for row in data:\n",
    "    for key, value in row.items():\n",
    "        print(f\"{key}: {value}\")\n",
    "    print(\"------------------\")\n",
    "\n",
    "# Render and save the graph as a PNG file\n",
    "output_path = 'docs/output/final_output_test'\n",
    "graph.format = 'png'\n",
    "graph.render(output_path, view=True)\n"
   ],
   "metadata": {
    "collapsed": false
   }
  }
 ],
 "metadata": {
  "kernelspec": {
   "display_name": "Python 3 (ipykernel)",
   "language": "python",
   "name": "python3"
  },
  "language_info": {
   "codemirror_mode": {
    "name": "ipython",
    "version": 3
   },
   "file_extension": ".py",
   "mimetype": "text/x-python",
   "name": "python",
   "nbconvert_exporter": "python",
   "pygments_lexer": "ipython3",
   "version": "3.11.3"
  }
 },
 "nbformat": 4,
 "nbformat_minor": 1
}
