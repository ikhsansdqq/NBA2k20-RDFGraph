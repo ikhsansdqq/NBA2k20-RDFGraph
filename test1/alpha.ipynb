{
 "cells": [
  {
   "cell_type": "markdown",
   "metadata": {},
   "source": [
    "### Import Libraries"
   ]
  },
  {
   "cell_type": "code",
   "execution_count": 1,
   "metadata": {
    "collapsed": true,
    "ExecuteTime": {
     "end_time": "2023-08-01T14:22:40.104905700Z",
     "start_time": "2023-08-01T14:22:37.884576200Z"
    }
   },
   "outputs": [],
   "source": [
    "import pandas as pd\n",
    "import rdflib\n",
    "from pydotplus import Graph\n",
    "from rdflib import Namespace, Literal, Graph\n",
    "from rdflib.extras.external_graph_libs import rdflib_to_networkx_multidigraph\n",
    "from rdflib.namespace import RDF, XSD\n",
    "from rdflib import FOAF"
   ]
  },
  {
   "cell_type": "markdown",
   "metadata": {},
   "source": [
    "### Scanning Files"
   ]
  },
  {
   "cell_type": "code",
   "execution_count": 2,
   "metadata": {
    "ExecuteTime": {
     "end_time": "2023-08-01T14:22:40.115292800Z",
     "start_time": "2023-08-01T14:22:40.096251600Z"
    }
   },
   "outputs": [],
   "source": [
    "df = pd.read_csv('src/nba2k_full.csv')"
   ]
  },
  {
   "cell_type": "code",
   "execution_count": 3,
   "metadata": {
    "ExecuteTime": {
     "end_time": "2023-08-01T14:22:40.124050800Z",
     "start_time": "2023-08-01T14:22:40.105411100Z"
    }
   },
   "outputs": [
    {
     "data": {
      "text/plain": "full_name       0\nrating          0\njersey          0\nteam           23\nposition        0\nb_day           0\nheight          0\nweight          0\nsalary          0\ncountry         0\ndraft_year      0\ndraft_round     0\ndraft_peak      0\ncollege        76\nversion         0\ndtype: int64"
     },
     "execution_count": 3,
     "metadata": {},
     "output_type": "execute_result"
    }
   ],
   "source": [
    "df.isnull().sum()"
   ]
  },
  {
   "cell_type": "code",
   "execution_count": 4,
   "metadata": {
    "ExecuteTime": {
     "end_time": "2023-08-01T14:22:40.131485400Z",
     "start_time": "2023-08-01T14:22:40.115292800Z"
    }
   },
   "outputs": [
    {
     "data": {
      "text/plain": "full_name      object\nrating          int64\njersey         object\nteam           object\nposition       object\nb_day          object\nheight         object\nweight         object\nsalary         object\ncountry        object\ndraft_year      int64\ndraft_round    object\ndraft_peak     object\ncollege        object\nversion        object\ndtype: object"
     },
     "execution_count": 4,
     "metadata": {},
     "output_type": "execute_result"
    }
   ],
   "source": [
    "df.dtypes"
   ]
  },
  {
   "cell_type": "markdown",
   "source": [
    "### Cleaning Data"
   ],
   "metadata": {
    "collapsed": false
   }
  },
  {
   "cell_type": "code",
   "execution_count": 5,
   "outputs": [
    {
     "data": {
      "text/plain": "full_name       0\nrating          0\njersey          0\nteam           23\nposition        0\nb_day           0\nheight          0\nweight          0\nsalary          0\ncountry         0\ndraft_year      0\ndraft_round     0\ndraft_peak      0\ncollege        76\nversion         0\ndtype: int64"
     },
     "execution_count": 5,
     "metadata": {},
     "output_type": "execute_result"
    }
   ],
   "source": [
    "df.isnull().sum()"
   ],
   "metadata": {
    "collapsed": false,
    "ExecuteTime": {
     "end_time": "2023-08-01T14:22:40.134992700Z",
     "start_time": "2023-08-01T14:22:40.124557800Z"
    }
   }
  },
  {
   "cell_type": "markdown",
   "metadata": {},
   "source": [
    "### Execution"
   ]
  },
  {
   "cell_type": "code",
   "execution_count": 6,
   "metadata": {
    "ExecuteTime": {
     "end_time": "2023-08-01T14:22:40.178287500Z",
     "start_time": "2023-08-01T14:22:40.134992700Z"
    }
   },
   "outputs": [],
   "source": [
    "graph = rdflib.Graph()"
   ]
  },
  {
   "cell_type": "code",
   "execution_count": 7,
   "metadata": {
    "ExecuteTime": {
     "end_time": "2023-08-01T14:22:40.178287500Z",
     "start_time": "2023-08-01T14:22:40.140073600Z"
    }
   },
   "outputs": [],
   "source": [
    "example_namespace = Namespace(\"https://nba-players.org/\")\n",
    "nba_namespace = Namespace(\"https://nba-players.org/player-dataset#\")"
   ]
  },
  {
   "cell_type": "code",
   "execution_count": 8,
   "metadata": {
    "ExecuteTime": {
     "end_time": "2023-08-01T14:22:40.178287500Z",
     "start_time": "2023-08-01T14:22:40.144188900Z"
    }
   },
   "outputs": [],
   "source": [
    "graph.bind(\"nba_namespace\", nba_namespace)\n",
    "graph.bind(\"foaf\", FOAF)"
   ]
  },
  {
   "cell_type": "code",
   "execution_count": 9,
   "metadata": {
    "ExecuteTime": {
     "end_time": "2023-08-01T14:22:40.629702500Z",
     "start_time": "2023-08-01T14:22:40.150847800Z"
    }
   },
   "outputs": [
    {
     "data": {
      "text/plain": "<Graph identifier=N87d26fa06cdd4983b2ab5da57f15a0d8 (<class 'rdflib.graph.Graph'>)>"
     },
     "execution_count": 9,
     "metadata": {},
     "output_type": "execute_result"
    }
   ],
   "source": [
    "for index, row in df.iterrows():\n",
    "    player_uri = nba_namespace['player_' + str(index)]\n",
    "    graph.add((player_uri, RDF.type, nba_namespace['NBAPlayer']))\n",
    "\n",
    "    graph.add((player_uri, nba_namespace['full_name'], Literal(row['full_name'])))\n",
    "    graph.add((player_uri, nba_namespace['rating'], Literal(row['rating'], datatype=XSD.integer)))\n",
    "    graph.add((player_uri, nba_namespace['jersey'], Literal(row['jersey'].lstrip('#'))))\n",
    "    graph.add((player_uri, nba_namespace['team'], Literal(row['team'])))\n",
    "    graph.add((player_uri, nba_namespace['position'], Literal(row['position'])))\n",
    "    graph.add((player_uri, nba_namespace['b_day'], Literal(row['b_day'])))\n",
    "\n",
    "    height_data = row['height']\n",
    "    height_value_meters = float(height_data.split('/')[1].strip())\n",
    "    graph.add((player_uri, nba_namespace['height'], Literal(height_value_meters, datatype=XSD.float)))\n",
    "\n",
    "    weight_data = row['weight']\n",
    "    weight_value_kg = float(weight_data.split('/')[1].strip().split()[0])  # Extract weight in kilograms\n",
    "    graph.add((player_uri, nba_namespace['weight'], Literal(weight_value_kg, datatype=XSD.float)))\n",
    "\n",
    "    salary_data = row['salary']\n",
    "    salary_value = float(salary_data.strip('$').replace(',', ''))\n",
    "    salary_formatted = '${:,.0f}'.format(salary_value)\n",
    "    graph.add((player_uri, nba_namespace['salary'], Literal(salary_formatted)))\n",
    "\n",
    "    graph.add((player_uri, nba_namespace['country'], Literal(row['country'])))\n",
    "    graph.add((player_uri, nba_namespace['draft_year'], Literal(row['draft_year'], datatype=XSD.integer)))\n",
    "    graph.add((player_uri, nba_namespace['draft_round'], Literal(row['draft_round'])))\n",
    "    graph.add((player_uri, nba_namespace['draft_peak'], Literal(row['draft_peak'])))\n",
    "\n",
    "    college_data = row['college']\n",
    "    if pd.isna(college_data):\n",
    "        college_data = 'No College Data'\n",
    "    graph.add((player_uri, nba_namespace['college'], Literal(college_data)))\n",
    "\n",
    "    graph.add((player_uri, nba_namespace['version'], Literal(row['version'])))\n",
    "\n",
    "graph.serialize('nba-players-2.ttl', format='turtle')"
   ]
  },
  {
   "cell_type": "code",
   "execution_count": 10,
   "outputs": [],
   "source": [
    "url = 'nba-players-2.ttl'\n",
    "result = graph.parse(url, format='turtle')"
   ],
   "metadata": {
    "collapsed": false,
    "ExecuteTime": {
     "end_time": "2023-08-01T14:22:41.026892100Z",
     "start_time": "2023-08-01T14:22:40.629702500Z"
    }
   }
  },
  {
   "cell_type": "code",
   "execution_count": 11,
   "outputs": [],
   "source": [
    "G = rdflib_to_networkx_multidigraph(result)"
   ],
   "metadata": {
    "collapsed": false,
    "ExecuteTime": {
     "end_time": "2023-08-01T14:22:41.340935400Z",
     "start_time": "2023-08-01T14:22:41.011265100Z"
    }
   }
  },
  {
   "cell_type": "code",
   "execution_count": 12,
   "outputs": [],
   "source": [
    "# pos = nx.spring_layout(G, scale=4)\n",
    "# edge_labels = nx.get_edge_attributes(G, 'r')\n",
    "# nx.draw_networkx_edge_labels(G, pos, edge_labels=edge_labels)\n",
    "# nx.draw(G, with_labels=True)\n",
    "# plt.show()"
   ],
   "metadata": {
    "collapsed": false,
    "ExecuteTime": {
     "end_time": "2023-08-01T14:22:41.344097600Z",
     "start_time": "2023-08-01T14:22:41.340935400Z"
    }
   }
  },
  {
   "cell_type": "code",
   "execution_count": 13,
   "outputs": [],
   "source": [
    "def turtle_to_dot(turtle_file, dot_file):\n",
    "    # Create an RDF graph and parse the Turtle file\n",
    "    graph = Graph()\n",
    "    graph.parse(turtle_file, format=\"turtle\")\n",
    "\n",
    "    # Create a DOT file and write the header\n",
    "    with open(dot_file, \"w\") as f:\n",
    "        f.write(\"digraph G {\\n\")\n",
    "        f.write('    node [shape=box];\\n')\n",
    "\n",
    "        # Iterate over the triples and extract the relevant information\n",
    "        for s, p, o in graph:\n",
    "            # Check if the triple is about an NBAPlayer\n",
    "            if p == RDF.type and o == nba_namespace.NBAPlayer:\n",
    "                player_uri = s\n",
    "\n",
    "                # Get the full_name of the player\n",
    "                full_name = str(graph.value(s, nba_namespace.full_name))\n",
    "\n",
    "                # Get the team the player is in\n",
    "                team = str(graph.value(s, nba_namespace.team))\n",
    "\n",
    "                # Get the height and weight of the player (assuming they are stored as xsd:float literals)\n",
    "                height = str(graph.value(s, nba_namespace.height))\n",
    "                weight = str(graph.value(s, nba_namespace.weight))\n",
    "\n",
    "                # Get the salary of the player\n",
    "                salary = str(graph.value(s, nba_namespace.salary))\n",
    "\n",
    "                # Get the country of the player\n",
    "                country = str(graph.value(s, nba_namespace.country))\n",
    "\n",
    "                # Write the node and edges to the DOT file\n",
    "                f.write(f'    \"{full_name}\" -> \"{team}\" [label=\"currentTeam\"];\\n')\n",
    "                f.write(f'    \"{full_name}\" -> \"{height}\" [label=\"hasHeight\"];\\n')\n",
    "                f.write(f'    \"{full_name}\" -> \"{weight}\" [label=\"hasWeight\"];\\n')\n",
    "                f.write(f'    \"{full_name}\" -> \"{salary}\" [label=\"has yearSalaryOf\"];\\n')\n",
    "                f.write(f'    \"{full_name}\" -> \"{country}\" [label=\"from\"];\\n')\n",
    "\n",
    "        # Write the DOT file footer\n",
    "        f.write(\"}\")\n",
    "\n",
    "\n",
    "# Replace \"input.ttl\" with the path to your Turtle file\n",
    "turtle_to_dot(\"nba-players-2.ttl\", \"docs/output.dot\")"
   ],
   "metadata": {
    "collapsed": false,
    "ExecuteTime": {
     "end_time": "2023-08-01T14:22:41.811375100Z",
     "start_time": "2023-08-01T14:22:41.344097600Z"
    }
   }
  },
  {
   "cell_type": "code",
   "execution_count": 14,
   "outputs": [],
   "source": [
    "import graphviz\n",
    "from graphviz import Digraph, Graph"
   ],
   "metadata": {
    "collapsed": false,
    "ExecuteTime": {
     "end_time": "2023-08-01T14:22:41.858748500Z",
     "start_time": "2023-08-01T14:22:41.811375100Z"
    }
   }
  },
  {
   "cell_type": "code",
   "execution_count": 17,
   "outputs": [
    {
     "data": {
      "text/plain": "'docs\\\\output\\\\output_graph_2.png'"
     },
     "execution_count": 17,
     "metadata": {},
     "output_type": "execute_result"
    }
   ],
   "source": [
    "# dot = Digraph()\n",
    "# \n",
    "# # Add nodes and edges\n",
    "# dot.node('A', 'Node A')\n",
    "# dot.node('B', 'Node B')\n",
    "# dot.edge('A', 'B')\n",
    "# \n",
    "# # Render the graph to a file or display it\n",
    "# dot.render('example_graph', view=True)\n",
    "\n",
    "from graphviz import Source\n",
    "dot_file_path = 'docs/dummy_player.dot'\n",
    "\n",
    "with open(dot_file_path, 'r') as dot_file:\n",
    "    dot_data = dot_file.read()\n",
    "    \n",
    "graph = Source(dot_data)\n",
    "output = 'docs/output/output_graph_2'\n",
    "graph.format = 'png'\n",
    "graph.render(output, view=True)"
   ],
   "metadata": {
    "collapsed": false,
    "ExecuteTime": {
     "end_time": "2023-08-01T14:27:31.381584300Z",
     "start_time": "2023-08-01T14:27:30.834261100Z"
    }
   }
  },
  {
   "cell_type": "markdown",
   "source": [],
   "metadata": {
    "collapsed": false
   }
  }
 ],
 "metadata": {
  "kernelspec": {
   "display_name": "Python 3 (ipykernel)",
   "language": "python",
   "name": "python3"
  },
  "language_info": {
   "codemirror_mode": {
    "name": "ipython",
    "version": 3
   },
   "file_extension": ".py",
   "mimetype": "text/x-python",
   "name": "python",
   "nbconvert_exporter": "python",
   "pygments_lexer": "ipython3",
   "version": "3.11.3"
  }
 },
 "nbformat": 4,
 "nbformat_minor": 1
}
