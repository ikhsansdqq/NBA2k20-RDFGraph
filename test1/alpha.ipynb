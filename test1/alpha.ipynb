{
 "cells": [
  {
   "cell_type": "markdown",
   "metadata": {},
   "source": [
    "### Import Libraries"
   ]
  },
  {
   "cell_type": "code",
   "execution_count": 78,
   "metadata": {
    "collapsed": true,
    "ExecuteTime": {
     "end_time": "2023-08-01T15:03:02.932259Z",
     "start_time": "2023-08-01T15:03:02.870239400Z"
    }
   },
   "outputs": [],
   "source": [
    "import pandas as pd\n",
    "import rdflib\n",
    "from rdflib import FOAF\n",
    "from rdflib import Namespace, Literal, Graph\n",
    "from rdflib.namespace import RDF, XSD"
   ]
  },
  {
   "cell_type": "markdown",
   "metadata": {},
   "source": [
    "### Scanning Files"
   ]
  },
  {
   "cell_type": "code",
   "execution_count": 79,
   "metadata": {
    "ExecuteTime": {
     "end_time": "2023-08-01T15:03:02.932259Z",
     "start_time": "2023-08-01T15:03:02.874668Z"
    }
   },
   "outputs": [],
   "source": [
    "df = pd.read_csv('src/nba2k_full.csv')"
   ]
  },
  {
   "cell_type": "code",
   "execution_count": 80,
   "metadata": {
    "ExecuteTime": {
     "end_time": "2023-08-01T15:03:02.932259Z",
     "start_time": "2023-08-01T15:03:02.881244700Z"
    }
   },
   "outputs": [
    {
     "data": {
      "text/plain": "full_name       0\nrating          0\njersey          0\nteam           23\nposition        0\nb_day           0\nheight          0\nweight          0\nsalary          0\ncountry         0\ndraft_year      0\ndraft_round     0\ndraft_peak      0\ncollege        76\nversion         0\ndtype: int64"
     },
     "execution_count": 80,
     "metadata": {},
     "output_type": "execute_result"
    }
   ],
   "source": [
    "df.isnull().sum()"
   ]
  },
  {
   "cell_type": "code",
   "execution_count": 81,
   "metadata": {
    "ExecuteTime": {
     "end_time": "2023-08-01T15:03:02.947886Z",
     "start_time": "2023-08-01T15:03:02.887961300Z"
    }
   },
   "outputs": [
    {
     "data": {
      "text/plain": "full_name      object\nrating          int64\njersey         object\nteam           object\nposition       object\nb_day          object\nheight         object\nweight         object\nsalary         object\ncountry        object\ndraft_year      int64\ndraft_round    object\ndraft_peak     object\ncollege        object\nversion        object\ndtype: object"
     },
     "execution_count": 81,
     "metadata": {},
     "output_type": "execute_result"
    }
   ],
   "source": [
    "df.dtypes"
   ]
  },
  {
   "cell_type": "markdown",
   "source": [
    "### Cleaning Data"
   ],
   "metadata": {
    "collapsed": false
   }
  },
  {
   "cell_type": "code",
   "execution_count": 82,
   "outputs": [
    {
     "data": {
      "text/plain": "full_name       0\nrating          0\njersey          0\nteam           23\nposition        0\nb_day           0\nheight          0\nweight          0\nsalary          0\ncountry         0\ndraft_year      0\ndraft_round     0\ndraft_peak      0\ncollege        76\nversion         0\ndtype: int64"
     },
     "execution_count": 82,
     "metadata": {},
     "output_type": "execute_result"
    }
   ],
   "source": [
    "df.isnull().sum()"
   ],
   "metadata": {
    "collapsed": false,
    "ExecuteTime": {
     "end_time": "2023-08-01T15:03:02.997740700Z",
     "start_time": "2023-08-01T15:03:02.893776400Z"
    }
   }
  },
  {
   "cell_type": "markdown",
   "metadata": {},
   "source": [
    "### Execution"
   ]
  },
  {
   "cell_type": "code",
   "execution_count": 83,
   "metadata": {
    "ExecuteTime": {
     "end_time": "2023-08-01T15:03:02.997740700Z",
     "start_time": "2023-08-01T15:03:02.900609800Z"
    }
   },
   "outputs": [],
   "source": [
    "graph = rdflib.Graph()"
   ]
  },
  {
   "cell_type": "code",
   "execution_count": 84,
   "metadata": {
    "ExecuteTime": {
     "end_time": "2023-08-01T15:03:02.997740700Z",
     "start_time": "2023-08-01T15:03:02.905170700Z"
    }
   },
   "outputs": [],
   "source": [
    "example_namespace = Namespace(\"https://nba-players.org/\")\n",
    "nba_namespace = Namespace(\"https://nba-players.org/player-dataset#\")"
   ]
  },
  {
   "cell_type": "code",
   "execution_count": 85,
   "metadata": {
    "ExecuteTime": {
     "end_time": "2023-08-01T15:03:02.997740700Z",
     "start_time": "2023-08-01T15:03:02.910110100Z"
    }
   },
   "outputs": [],
   "source": [
    "graph.bind(\"nba_namespace\", nba_namespace)\n",
    "graph.bind(\"foaf\", FOAF)"
   ]
  },
  {
   "cell_type": "code",
   "execution_count": 86,
   "metadata": {
    "ExecuteTime": {
     "end_time": "2023-08-01T15:03:03.253559800Z",
     "start_time": "2023-08-01T15:03:02.916625300Z"
    }
   },
   "outputs": [
    {
     "data": {
      "text/plain": "<Graph identifier=N9c8c4a9b0ad94718b9fc41995af717e5 (<class 'rdflib.graph.Graph'>)>"
     },
     "execution_count": 86,
     "metadata": {},
     "output_type": "execute_result"
    }
   ],
   "source": [
    "for index, row in df.iterrows():\n",
    "    player_uri = nba_namespace['player_' + str(index)]\n",
    "    graph.add((player_uri, RDF.type, nba_namespace['NBAPlayer']))\n",
    "\n",
    "    graph.add((player_uri, nba_namespace['full_name'], Literal(row['full_name'])))\n",
    "    graph.add((player_uri, nba_namespace['rating'], Literal(row['rating'], datatype=XSD.integer)))\n",
    "    graph.add((player_uri, nba_namespace['jersey'], Literal(row['jersey'].lstrip('#'))))\n",
    "    graph.add((player_uri, nba_namespace['team'], Literal(row['team'])))\n",
    "    graph.add((player_uri, nba_namespace['position'], Literal(row['position'])))\n",
    "    graph.add((player_uri, nba_namespace['b_day'], Literal(row['b_day'])))\n",
    "\n",
    "    height_data = row['height']\n",
    "    height_value_meters = float(height_data.split('/')[1].strip())\n",
    "    graph.add((player_uri, nba_namespace['height'], Literal(height_value_meters, datatype=XSD.float)))\n",
    "\n",
    "    weight_data = row['weight']\n",
    "    weight_value_kg = float(weight_data.split('/')[1].strip().split()[0])  # Extract weight in kilograms\n",
    "    graph.add((player_uri, nba_namespace['weight'], Literal(weight_value_kg, datatype=XSD.float)))\n",
    "\n",
    "    salary_data = row['salary']\n",
    "    salary_value = float(salary_data.strip('$').replace(',', ''))\n",
    "    salary_formatted = '${:,.0f}'.format(salary_value)\n",
    "    graph.add((player_uri, nba_namespace['salary'], Literal(salary_formatted)))\n",
    "\n",
    "    graph.add((player_uri, nba_namespace['country'], Literal(row['country'])))\n",
    "    graph.add((player_uri, nba_namespace['draft_year'], Literal(row['draft_year'], datatype=XSD.integer)))\n",
    "    graph.add((player_uri, nba_namespace['draft_round'], Literal(row['draft_round'])))\n",
    "    graph.add((player_uri, nba_namespace['draft_peak'], Literal(row['draft_peak'])))\n",
    "\n",
    "    college_data = row['college']\n",
    "    if pd.isna(college_data):\n",
    "        college_data = 'No College Data'\n",
    "    graph.add((player_uri, nba_namespace['college'], Literal(college_data)))\n",
    "\n",
    "    graph.add((player_uri, nba_namespace['version'], Literal(row['version'])))\n",
    "\n",
    "graph.serialize('nba-players-2.ttl', format='turtle')"
   ]
  },
  {
   "cell_type": "code",
   "execution_count": 87,
   "outputs": [],
   "source": [
    "url = 'nba-players-2.ttl'\n",
    "result = graph.parse(url, format='turtle')"
   ],
   "metadata": {
    "collapsed": false,
    "ExecuteTime": {
     "end_time": "2023-08-01T15:03:03.552262200Z",
     "start_time": "2023-08-01T15:03:03.253559800Z"
    }
   }
  },
  {
   "cell_type": "code",
   "execution_count": 88,
   "outputs": [],
   "source": [
    "def turtle_to_dot(turtle_file, dot_file):\n",
    "    graph = Graph()\n",
    "    graph.parse(turtle_file, format='turtle')\n",
    "\n",
    "    with open(dot_file, \"w\") as f:\n",
    "        f.write(\"digraph G {\\n\")\n",
    "        f.write('    node [shape=box];\\n')\n",
    "\n",
    "        for s, p, o in graph:\n",
    "            if p == RDF.type and o == nba_namespace.NBAPlayer:\n",
    "                full_name = str(graph.value(s, nba_namespace.full_name))\n",
    "                team = str(graph.value(s, nba_namespace.team))\n",
    "                height = str(graph.value(s, nba_namespace.height))\n",
    "                weight = str(graph.value(s, nba_namespace.weight))\n",
    "                salary = str(graph.value(s, nba_namespace.salary))\n",
    "                country = str(graph.value(s, nba_namespace.country))\n",
    "                rating = str(graph.value(s, nba_namespace.rating))\n",
    "                \n",
    "                rating_number = int(rating) if rating.isdigit() else 0\n",
    "                if rating_number > 80:\n",
    "                    f.write(f'    \"{full_name}\" -> \"{team}\" [label=\"currentTeam\"];\\n')\n",
    "                    f.write(f'    \"{full_name}\" -> \"{height}m\" [label=\"hasHeight\"];\\n')\n",
    "                    f.write(f'    \"{full_name}\" -> \"{weight}kg\" [label=\"hasWeight\"];\\n')\n",
    "                    f.write(f'    \"{full_name}\" -> \"{rating}\" [label=\"ratingNumber\"];\\n')\n",
    "                    f.write(f'    \"{full_name}\" -> \"{salary}\" [label=\"annualSalary\"];\\n')\n",
    "                    f.write(f'    \"{full_name}\" -> \"{country}\" [label=\"from\"];\\n')\n",
    "\n",
    "        f.write(\"}\")\n",
    "# Replace \"input.ttl\" with the path to your Turtle file\n",
    "turtle_to_dot(\"nba-players-2.ttl\", \"docs/output_final_rating_system.dot\")"
   ],
   "metadata": {
    "collapsed": false,
    "ExecuteTime": {
     "end_time": "2023-08-01T15:03:04.105136900Z",
     "start_time": "2023-08-01T15:03:03.552262200Z"
    }
   }
  },
  {
   "cell_type": "code",
   "execution_count": 89,
   "outputs": [],
   "source": [
    "from graphviz import Graph"
   ],
   "metadata": {
    "collapsed": false,
    "ExecuteTime": {
     "end_time": "2023-08-01T15:03:04.105136900Z",
     "start_time": "2023-08-01T15:03:04.085215500Z"
    }
   }
  },
  {
   "cell_type": "code",
   "execution_count": 91,
   "outputs": [
    {
     "data": {
      "text/plain": "'docs\\\\output\\\\final_output_test.png'"
     },
     "execution_count": 91,
     "metadata": {},
     "output_type": "execute_result"
    }
   ],
   "source": [
    "from graphviz import Source\n",
    "dot_file_path = 'docs/dummy_player.dot'\n",
    "\n",
    "with open(dot_file_path, 'r') as dot_file:\n",
    "    dot_data = dot_file.read()\n",
    "\n",
    "graph = Source(dot_data)\n",
    "output = 'docs/output/final_output_test'\n",
    "graph.format = 'png'\n",
    "graph.render(output, view=True)"
   ],
   "metadata": {
    "collapsed": false,
    "ExecuteTime": {
     "end_time": "2023-08-01T15:04:39.100373200Z",
     "start_time": "2023-08-01T15:04:38.724743900Z"
    }
   }
  }
 ],
 "metadata": {
  "kernelspec": {
   "display_name": "Python 3 (ipykernel)",
   "language": "python",
   "name": "python3"
  },
  "language_info": {
   "codemirror_mode": {
    "name": "ipython",
    "version": 3
   },
   "file_extension": ".py",
   "mimetype": "text/x-python",
   "name": "python",
   "nbconvert_exporter": "python",
   "pygments_lexer": "ipython3",
   "version": "3.11.3"
  }
 },
 "nbformat": 4,
 "nbformat_minor": 1
}
