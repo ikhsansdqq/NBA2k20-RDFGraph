{
 "cells": [
  {
   "cell_type": "markdown",
   "source": [
    "# Install any required library"
   ],
   "metadata": {
    "collapsed": false
   },
   "id": "582fea399c5fb804"
  },
  {
   "cell_type": "code",
   "execution_count": 3,
   "outputs": [
    {
     "name": "stdout",
     "output_type": "stream",
     "text": [
      "Requirement already satisfied: graphviz in c:\\users\\ikhsan pc\\appdata\\local\\programs\\python\\python311\\lib\\site-packages (0.20.1)\n",
      "Note: you may need to restart the kernel to use updated packages.\n",
      "Requirement already satisfied: pandas in c:\\users\\ikhsan pc\\appdata\\local\\programs\\python\\python311\\lib\\site-packages (2.0.2)\n",
      "Requirement already satisfied: python-dateutil>=2.8.2 in c:\\users\\ikhsan pc\\appdata\\roaming\\python\\python311\\site-packages (from pandas) (2.8.2)\n",
      "Requirement already satisfied: pytz>=2020.1 in c:\\users\\ikhsan pc\\appdata\\local\\programs\\python\\python311\\lib\\site-packages (from pandas) (2023.3)\n",
      "Requirement already satisfied: tzdata>=2022.1 in c:\\users\\ikhsan pc\\appdata\\local\\programs\\python\\python311\\lib\\site-packages (from pandas) (2023.3)\n",
      "Requirement already satisfied: numpy>=1.21.0 in c:\\users\\ikhsan pc\\appdata\\local\\programs\\python\\python311\\lib\\site-packages (from pandas) (1.24.3)\n",
      "Requirement already satisfied: six>=1.5 in c:\\users\\ikhsan pc\\appdata\\roaming\\python\\python311\\site-packages (from python-dateutil>=2.8.2->pandas) (1.16.0)\n",
      "Note: you may need to restart the kernel to use updated packages.\n",
      "Requirement already satisfied: rdflib in c:\\users\\ikhsan pc\\appdata\\local\\programs\\python\\python311\\lib\\site-packages (6.3.2)\n",
      "Requirement already satisfied: isodate<0.7.0,>=0.6.0 in c:\\users\\ikhsan pc\\appdata\\local\\programs\\python\\python311\\lib\\site-packages (from rdflib) (0.6.1)\n",
      "Requirement already satisfied: pyparsing<4,>=2.1.0 in c:\\users\\ikhsan pc\\appdata\\local\\programs\\python\\python311\\lib\\site-packages (from rdflib) (3.0.9)\n",
      "Requirement already satisfied: six in c:\\users\\ikhsan pc\\appdata\\roaming\\python\\python311\\site-packages (from isodate<0.7.0,>=0.6.0->rdflib) (1.16.0)\n",
      "Note: you may need to restart the kernel to use updated packages.\n"
     ]
    }
   ],
   "source": [
    "%pip install graphviz\n",
    "%pip install pandas\n",
    "%pip install rdflib"
   ],
   "metadata": {
    "collapsed": false,
    "ExecuteTime": {
     "end_time": "2023-08-04T09:35:56.714909300Z",
     "start_time": "2023-08-04T09:35:50.898522400Z"
    }
   },
   "id": "ced8e4aba14713dd"
  },
  {
   "cell_type": "markdown",
   "source": [
    "## Import any required data\n",
    "Required data including _pandas_, _rdflib_ and its classes like Graph, Namespace, Literal etc."
   ],
   "metadata": {
    "collapsed": false
   },
   "id": "524abf9af5f05980"
  },
  {
   "cell_type": "code",
   "execution_count": 17,
   "id": "initial_id",
   "metadata": {
    "collapsed": true,
    "ExecuteTime": {
     "end_time": "2023-08-04T09:38:49.571006200Z",
     "start_time": "2023-08-04T09:38:49.554818100Z"
    }
   },
   "outputs": [],
   "source": [
    "import locale # For currency formatting\n",
    "\n",
    "import pandas as pd\n",
    "from graphviz import Digraph\n",
    "from rdflib import Graph, Namespace, RDF, Literal, XSD\n",
    "from rdflib.plugins.sparql import prepareQuery"
   ]
  },
  {
   "cell_type": "markdown",
   "source": [
    "## Import dataset\n",
    "Importing the dataset which in this case is **NBA2k2x** data player"
   ],
   "metadata": {
    "collapsed": false
   },
   "id": "a919a5976c52e22a"
  },
  {
   "cell_type": "code",
   "execution_count": 5,
   "outputs": [],
   "source": [
    "df = pd.read_csv('../docs/nba2k_data.csv').fillna(\"No Data\")"
   ],
   "metadata": {
    "collapsed": false,
    "ExecuteTime": {
     "end_time": "2023-08-04T09:35:56.726336800Z",
     "start_time": "2023-08-04T09:35:56.714909300Z"
    }
   },
   "id": "750984c97c1db08"
  },
  {
   "cell_type": "markdown",
   "source": [
    "## Namespaces\n",
    "\n",
    "Namespace is required in order for identification"
   ],
   "metadata": {
    "collapsed": false
   },
   "id": "d3986d66644c9156"
  },
  {
   "cell_type": "code",
   "execution_count": 6,
   "outputs": [],
   "source": [
    "# Instead of using http, I changed it to https protocol to be more secured.\n",
    "# Notice that I do not use any \"example.org\" since it was too boring all the time, so I make a little tweak with url \"nba-database.org\" instead.\n",
    "\n",
    "nba_namespace = Namespace(\"https://nba-database.org/\")  # nba\n",
    "nba_player = Namespace(\"https://nba-database.org/profile#\")  # player_nba\n",
    "nba_types_namespace = Namespace(\"https://nba-database.org/types#\")  # types"
   ],
   "metadata": {
    "collapsed": false,
    "ExecuteTime": {
     "end_time": "2023-08-04T09:35:56.734166300Z",
     "start_time": "2023-08-04T09:35:56.727336200Z"
    }
   },
   "id": "88c0c80ca41a4421"
  },
  {
   "cell_type": "code",
   "execution_count": 7,
   "outputs": [],
   "source": [
    "# First Graph-Making\n",
    "# Binding any necessary data.\n",
    "\n",
    "g = Graph()\n",
    "g.bind(\"nba\", nba_namespace)\n",
    "g.bind(\"nba_player\", nba_player)\n",
    "g.bind(\"types\", nba_types_namespace)"
   ],
   "metadata": {
    "collapsed": false,
    "ExecuteTime": {
     "end_time": "2023-08-04T09:35:56.749272200Z",
     "start_time": "2023-08-04T09:35:56.732170800Z"
    }
   },
   "id": "a4e49c93806d80b7"
  },
  {
   "cell_type": "markdown",
   "source": [
    "## Creating RDF Format\n",
    "\n",
    "First of all, all we need is an RDF file, but we don't have a single file yet, so I create it first with the format using turtle format."
   ],
   "metadata": {
    "collapsed": false
   },
   "id": "4719fa4be6c98ebd"
  },
  {
   "cell_type": "code",
   "execution_count": 8,
   "outputs": [
    {
     "name": "stdout",
     "output_type": "stream",
     "text": [
      "Successful written data.\n"
     ]
    }
   ],
   "source": [
    "# Just to beautify the salary column.\n",
    "locale.setlocale(locale.LC_ALL, 'en_US.UTF-8')\n",
    "\n",
    "try:\n",
    "    for i, row in df.iterrows():\n",
    "        subj = nba_namespace[row['full_name'].replace(' ', '_').replace('-', '_')]\n",
    "\n",
    "        g.add((subj, RDF.type, nba_types_namespace.Player))\n",
    "        g.add((subj, nba_player.full_name, Literal(row['full_name'])))\n",
    "        g.add((subj, nba_player.rating, Literal(row['rating'], datatype=XSD.integer)))\n",
    "        g.add((subj, nba_player.jersey, Literal(row['jersey'])))\n",
    "        g.add((subj, nba_player.team, Literal(row['team'])))\n",
    "        g.add((subj, nba_player.position, Literal(row['position'])))\n",
    "        if row['b_day']:\n",
    "            month, day, year = row['b_day'].split('/')\n",
    "            iso_date = f\"19{year}-{month.zfill(2)}-{day.zfill(2)}\"\n",
    "            g.add((subj, nba_player.b_day, Literal(iso_date, datatype=XSD.date)))\n",
    "        g.add((subj, nba_player.height, Literal(row['height'])))\n",
    "        g.add((subj, nba_player.weight, Literal(row['weight'])))\n",
    "\n",
    "        salary_str = row['salary']\n",
    "        salary_value = locale.atof(salary_str.strip('$').replace(',', ''))  # Convert to float\n",
    "        formatted_salary = locale.currency(salary_value, grouping=True)  # Format as US currency\n",
    "        g.add((subj, nba_player.salary, Literal(formatted_salary)))\n",
    "\n",
    "        g.add((subj, nba_player.country, Literal(row['country'])))\n",
    "        g.add((subj, nba_player.draft_year, Literal(int(row['draft_year']), datatype=XSD.integer)))\n",
    "        g.add((subj, nba_player.draft_round, Literal(row['draft_round'])))\n",
    "        g.add((subj, nba_player.draft_peak, Literal(row['draft_peak'])))\n",
    "        g.add((subj, nba_player.college, Literal(row['college'])))\n",
    "        g.add((subj, nba_player.version, Literal(row['version'])))\n",
    "    g.serialize('nba-data.ttl', format='turtle')  # Export to Turtle.\n",
    "    g.serialize('nba-data.rdf', format='xml')  # Export to RDF/ XML.\n",
    "\n",
    "    print(\"Successful written data.\")\n",
    "except IOError as e:\n",
    "    print(e)"
   ],
   "metadata": {
    "collapsed": false,
    "ExecuteTime": {
     "end_time": "2023-08-04T09:35:57.269831400Z",
     "start_time": "2023-08-04T09:35:56.743271500Z"
    }
   },
   "id": "d9a87bc9e3dcd714"
  },
  {
   "cell_type": "markdown",
   "source": [
    "## Creating a Visual Representation of RDF Format"
   ],
   "metadata": {
    "collapsed": false
   },
   "id": "90e4b1a4bfe14973"
  },
  {
   "cell_type": "code",
   "execution_count": 9,
   "outputs": [],
   "source": [
    "graph = Graph()\n",
    "graph.parse('nba-data.ttl', format='turtle')\n",
    "\n",
    "dot_graph = Digraph(format='svg', comment='rdf into dot format.')\n",
    "\n",
    "try:\n",
    "    for s, p, o in graph:\n",
    "        if p == RDF.type and o == nba_types_namespace.Player:\n",
    "            subj = s\n",
    "\n",
    "            player_data = {}\n",
    "            for prop in [nba_player.full_name, nba_player.rating, nba_player.jersey,\n",
    "                         nba_player.team, nba_player.position, nba_player.b_day,\n",
    "                         nba_player.height, nba_player.weight, nba_player.salary,\n",
    "                         nba_player.country, nba_player.draft_year, nba_player.draft_round,\n",
    "                         nba_player.draft_peak, nba_player.college, nba_player.version]:\n",
    "                prop_value = str(graph.value(s, prop))\n",
    "                player_data[prop] = prop_value\n",
    "\n",
    "                dot_graph.node(prop_value)\n",
    "\n",
    "            full_name = player_data[nba_player.full_name]\n",
    "            for prop, label in [(nba_player.rating, \"hasRating\"), (nba_player.jersey, \"hasJersey\"),\n",
    "                                (nba_player.team, \"currentTeam\"), (nba_player.position, \"hasPosition\"),\n",
    "                                (nba_player.b_day, \"hasBirthday\"), (nba_player.height, \"hasHeight\"),\n",
    "                                (nba_player.weight, \"hasWeight\"), (nba_player.salary, \"hasYearSalary\"),\n",
    "                                (nba_player.country, \"isFromCountry\")]:\n",
    "                dot_graph.edge(full_name, player_data[prop], label=label)\n",
    "\n",
    "    dot_graph.render('data.dot', view=True)\n",
    "except IOError as e:\n",
    "    print(f\"Something has happened: {e}\")"
   ],
   "metadata": {
    "collapsed": false,
    "ExecuteTime": {
     "end_time": "2023-08-04T09:36:08.995696600Z",
     "start_time": "2023-08-04T09:35:57.263829800Z"
    }
   },
   "id": "4001eeed8bf2c212"
  },
  {
   "cell_type": "markdown",
   "source": [
    "# Querying\n",
    "This step I need to create several queries like:\n",
    "- ASK Query\n",
    "- DESCRIBE Query\n",
    "- AGGREGATE Query\n",
    "- etc"
   ],
   "metadata": {
    "collapsed": false
   },
   "id": "f1996a87a0bb94c8"
  },
  {
   "cell_type": "markdown",
   "source": [
    "## Select Query"
   ],
   "metadata": {
    "collapsed": false
   },
   "id": "263a162258e5ffde"
  },
  {
   "cell_type": "code",
   "execution_count": 10,
   "outputs": [
    {
     "name": "stdout",
     "output_type": "stream",
     "text": [
      "Index No: 1\n",
      "Player URL Data: https://nba-database.org/LeBron_James \n",
      "Name: LeBron James \n",
      "Team: Los Angeles Lakers \n",
      "Position: F  \n",
      "Annual Salary: $37,436,858.00 \n",
      "Game Version: NBA2k20\n",
      "-------\n",
      "Index No: 2\n",
      "Player URL Data: https://nba-database.org/LeBron_James \n",
      "Name: LeBron James \n",
      "Team: Los Angeles Lakers \n",
      "Position: F  \n",
      "Annual Salary: $37,436,858.00 \n",
      "Game Version: NBA2k21\n",
      "-------\n",
      "Index No: 3\n",
      "Player URL Data: https://nba-database.org/LeBron_James \n",
      "Name: LeBron James \n",
      "Team: Los Angeles Lakers \n",
      "Position: F  \n",
      "Annual Salary: $37,436,858.00 \n",
      "Game Version: NBA2k22\n",
      "-------\n",
      "Index No: 4\n",
      "Player URL Data: https://nba-database.org/LeBron_James \n",
      "Name: LeBron James \n",
      "Team: Los Angeles Lakers \n",
      "Position: F  \n",
      "Annual Salary: $39,219,566.00 \n",
      "Game Version: NBA2k20\n",
      "-------\n",
      "Index No: 5\n",
      "Player URL Data: https://nba-database.org/LeBron_James \n",
      "Name: LeBron James \n",
      "Team: Los Angeles Lakers \n",
      "Position: F  \n",
      "Annual Salary: $39,219,566.00 \n",
      "Game Version: NBA2k21\n",
      "-------\n",
      "Index No: 6\n",
      "Player URL Data: https://nba-database.org/LeBron_James \n",
      "Name: LeBron James \n",
      "Team: Los Angeles Lakers \n",
      "Position: F  \n",
      "Annual Salary: $39,219,566.00 \n",
      "Game Version: NBA2k22\n",
      "-------\n",
      "Index No: 7\n",
      "Player URL Data: https://nba-database.org/LeBron_James \n",
      "Name: LeBron James \n",
      "Team: Los Angeles Lakers \n",
      "Position: F  \n",
      "Annual Salary: $41,180,544.00 \n",
      "Game Version: NBA2k20\n",
      "-------\n",
      "Index No: 8\n",
      "Player URL Data: https://nba-database.org/LeBron_James \n",
      "Name: LeBron James \n",
      "Team: Los Angeles Lakers \n",
      "Position: F  \n",
      "Annual Salary: $41,180,544.00 \n",
      "Game Version: NBA2k21\n",
      "-------\n",
      "Index No: 9\n",
      "Player URL Data: https://nba-database.org/LeBron_James \n",
      "Name: LeBron James \n",
      "Team: Los Angeles Lakers \n",
      "Position: F  \n",
      "Annual Salary: $41,180,544.00 \n",
      "Game Version: NBA2k22\n",
      "-------\n",
      "Index No: 10\n",
      "Player URL Data: https://nba-database.org/Kawhi_Leonard \n",
      "Name: Kawhi Leonard \n",
      "Team: Los Angeles Clippers \n",
      "Position: F  \n",
      "Annual Salary: $32,742,000.00 \n",
      "Game Version: NBA2k20\n",
      "-------\n",
      "Index No: 11\n",
      "Player URL Data: https://nba-database.org/Kawhi_Leonard \n",
      "Name: Kawhi Leonard \n",
      "Team: Los Angeles Clippers \n",
      "Position: F  \n",
      "Annual Salary: $32,742,000.00 \n",
      "Game Version: NBA2k21\n",
      "-------\n",
      "Index No: 12\n",
      "Player URL Data: https://nba-database.org/Kawhi_Leonard \n",
      "Name: Kawhi Leonard \n",
      "Team: Los Angeles Clippers \n",
      "Position: F  \n",
      "Annual Salary: $32,742,000.00 \n",
      "Game Version: NBA2k22\n",
      "-------\n",
      "Index No: 13\n",
      "Player URL Data: https://nba-database.org/Kawhi_Leonard \n",
      "Name: Kawhi Leonard \n",
      "Team: Los Angeles Clippers \n",
      "Position: F  \n",
      "Annual Salary: $34,379,100.00 \n",
      "Game Version: NBA2k20\n",
      "-------\n",
      "Index No: 14\n",
      "Player URL Data: https://nba-database.org/Kawhi_Leonard \n",
      "Name: Kawhi Leonard \n",
      "Team: Los Angeles Clippers \n",
      "Position: F  \n",
      "Annual Salary: $34,379,100.00 \n",
      "Game Version: NBA2k21\n",
      "-------\n",
      "Index No: 15\n",
      "Player URL Data: https://nba-database.org/Kawhi_Leonard \n",
      "Name: Kawhi Leonard \n",
      "Team: Los Angeles Clippers \n",
      "Position: F  \n",
      "Annual Salary: $34,379,100.00 \n",
      "Game Version: NBA2k22\n",
      "-------\n",
      "Index No: 16\n",
      "Player URL Data: https://nba-database.org/Kawhi_Leonard \n",
      "Name: Kawhi Leonard \n",
      "Team: Los Angeles Clippers \n",
      "Position: F  \n",
      "Annual Salary: $39,344,900.00 \n",
      "Game Version: NBA2k20\n",
      "-------\n",
      "Index No: 17\n",
      "Player URL Data: https://nba-database.org/Kawhi_Leonard \n",
      "Name: Kawhi Leonard \n",
      "Team: Los Angeles Clippers \n",
      "Position: F  \n",
      "Annual Salary: $39,344,900.00 \n",
      "Game Version: NBA2k21\n",
      "-------\n",
      "Index No: 18\n",
      "Player URL Data: https://nba-database.org/Kawhi_Leonard \n",
      "Name: Kawhi Leonard \n",
      "Team: Los Angeles Clippers \n",
      "Position: F  \n",
      "Annual Salary: $39,344,900.00 \n",
      "Game Version: NBA2k22\n",
      "-------\n",
      "Index No: 19\n",
      "Player URL Data: https://nba-database.org/Giannis_Antetokounmpo \n",
      "Name: Giannis Antetokounmpo \n",
      "Team: Milwaukee Bucks \n",
      "Position: F-G  \n",
      "Annual Salary: $25,842,697.00 \n",
      "Game Version: NBA2k20\n",
      "-------\n",
      "Index No: 20\n",
      "Player URL Data: https://nba-database.org/Giannis_Antetokounmpo \n",
      "Name: Giannis Antetokounmpo \n",
      "Team: Milwaukee Bucks \n",
      "Position: F-G  \n",
      "Annual Salary: $25,842,697.00 \n",
      "Game Version: NBA2k21\n",
      "-------\n",
      "Index No: 21\n",
      "Player URL Data: https://nba-database.org/Giannis_Antetokounmpo \n",
      "Name: Giannis Antetokounmpo \n",
      "Team: Milwaukee Bucks \n",
      "Position: F-G  \n",
      "Annual Salary: $25,842,697.00 \n",
      "Game Version: NBA2k22\n",
      "-------\n",
      "Index No: 22\n",
      "Player URL Data: https://nba-database.org/Giannis_Antetokounmpo \n",
      "Name: Giannis Antetokounmpo \n",
      "Team: Milwaukee Bucks \n",
      "Position: F-G  \n",
      "Annual Salary: $27,528,088.00 \n",
      "Game Version: NBA2k20\n",
      "-------\n",
      "Index No: 23\n",
      "Player URL Data: https://nba-database.org/Giannis_Antetokounmpo \n",
      "Name: Giannis Antetokounmpo \n",
      "Team: Milwaukee Bucks \n",
      "Position: F-G  \n",
      "Annual Salary: $27,528,088.00 \n",
      "Game Version: NBA2k21\n",
      "-------\n",
      "Index No: 24\n",
      "Player URL Data: https://nba-database.org/Giannis_Antetokounmpo \n",
      "Name: Giannis Antetokounmpo \n",
      "Team: Milwaukee Bucks \n",
      "Position: F-G  \n",
      "Annual Salary: $27,528,088.00 \n",
      "Game Version: NBA2k22\n",
      "-------\n",
      "Index No: 25\n",
      "Player URL Data: https://nba-database.org/Giannis_Antetokounmpo \n",
      "Name: Giannis Antetokounmpo \n",
      "Team: Milwaukee Bucks \n",
      "Position: F-G  \n",
      "Annual Salary: $39,344,900.00 \n",
      "Game Version: NBA2k20\n",
      "-------\n"
     ]
    }
   ],
   "source": [
    "query_string = \"\"\"\n",
    "SELECT ?player ?full_name ?position ?team ?salary ?version\n",
    "WHERE {\n",
    "  ?player rdf:type types:Player;\n",
    "          nba_player:full_name ?full_name ;\n",
    "          nba_player:position ?position ;\n",
    "          nba_player:team ?team ;\n",
    "          nba_player:salary ?salary ;\n",
    "          nba_player:version ?version .\n",
    "}\n",
    "LIMIT 25\n",
    "\"\"\"\n",
    "\n",
    "query_result = g.query(query_string)\n",
    "dot_graph_selectQuery = Digraph(format='svg')\n",
    "\n",
    "try:\n",
    "    for idx, row in enumerate(query_result, start=1):\n",
    "        player_data = {\n",
    "            \"full_name\": str(row['full_name']),\n",
    "            \"position\": str(row['position']),\n",
    "            \"team\": str(row['team']),\n",
    "            \"salary\": str(row['salary']),\n",
    "            \"version\": str(row['version']),\n",
    "        }\n",
    "\n",
    "        for prop, label in [(\"position\", \"hasPosition\"), (\"team\", \"currentTeam\"),\n",
    "                            (\"salary\", \"currentSalary\"), (\"version\", \"gameVersion\")]:\n",
    "            dot_graph_selectQuery.node(player_data[prop])\n",
    "            dot_graph_selectQuery.edge(player_data[\"full_name\"], player_data[prop], label=label)\n",
    "\n",
    "        print(f\"Index No: {idx}\")\n",
    "        print(\n",
    "            f\"Player URL Data: {row['player']} \\nName: {row['full_name']} \\nTeam: {row['team']} \\nPosition: {row['position']}  \\nAnnual Salary: {row['salary']} \\nGame Version: {row['version']}\")\n",
    "        print(\"-------\")\n",
    "\n",
    "    dot_graph_selectQuery.render('data_select-query.dot', view=False)\n",
    "\n",
    "except Exception as e:\n",
    "    print(f\"An error occurred: {e}\")\n"
   ],
   "metadata": {
    "collapsed": false,
    "ExecuteTime": {
     "end_time": "2023-08-04T09:36:09.334021400Z",
     "start_time": "2023-08-04T09:36:08.999209Z"
    }
   },
   "id": "b81f7854c1b2acde"
  },
  {
   "cell_type": "markdown",
   "source": [
    "## ASK Query"
   ],
   "metadata": {
    "collapsed": false
   },
   "id": "e21aee75de601538"
  },
  {
   "cell_type": "code",
   "execution_count": 11,
   "outputs": [
    {
     "name": "stdout",
     "output_type": "stream",
     "text": [
      "Does LeBron James' rating is above 80? \n",
      "Yes, his rating is above 80 For Sure, Obviously.\n",
      "-------\n",
      "Player Data for those with rating above 80:\n",
      "Player URL Data: https://nba-database.org/LeBron_James\n",
      "Name: LeBron James\n",
      "Team: Los Angeles Lakers\n",
      "Position: F\n",
      "Annual Salary: $37,436,858.00\n",
      "Game Version: NBA2k20\n",
      "-------\n",
      "Player URL Data: https://nba-database.org/LeBron_James\n",
      "Name: LeBron James\n",
      "Team: Los Angeles Lakers\n",
      "Position: F\n",
      "Annual Salary: $37,436,858.00\n",
      "Game Version: NBA2k21\n",
      "-------\n",
      "Player URL Data: https://nba-database.org/LeBron_James\n",
      "Name: LeBron James\n",
      "Team: Los Angeles Lakers\n",
      "Position: F\n",
      "Annual Salary: $37,436,858.00\n",
      "Game Version: NBA2k22\n",
      "-------\n",
      "Player URL Data: https://nba-database.org/LeBron_James\n",
      "Name: LeBron James\n",
      "Team: Los Angeles Lakers\n",
      "Position: F\n",
      "Annual Salary: $39,219,566.00\n",
      "Game Version: NBA2k20\n",
      "-------\n",
      "Player URL Data: https://nba-database.org/LeBron_James\n",
      "Name: LeBron James\n",
      "Team: Los Angeles Lakers\n",
      "Position: F\n",
      "Annual Salary: $39,219,566.00\n",
      "Game Version: NBA2k21\n",
      "-------\n",
      "Player URL Data: https://nba-database.org/LeBron_James\n",
      "Name: LeBron James\n",
      "Team: Los Angeles Lakers\n",
      "Position: F\n",
      "Annual Salary: $39,219,566.00\n",
      "Game Version: NBA2k22\n",
      "-------\n",
      "Player URL Data: https://nba-database.org/LeBron_James\n",
      "Name: LeBron James\n",
      "Team: Los Angeles Lakers\n",
      "Position: F\n",
      "Annual Salary: $41,180,544.00\n",
      "Game Version: NBA2k20\n",
      "-------\n",
      "Player URL Data: https://nba-database.org/LeBron_James\n",
      "Name: LeBron James\n",
      "Team: Los Angeles Lakers\n",
      "Position: F\n",
      "Annual Salary: $41,180,544.00\n",
      "Game Version: NBA2k21\n",
      "-------\n",
      "Player URL Data: https://nba-database.org/LeBron_James\n",
      "Name: LeBron James\n",
      "Team: Los Angeles Lakers\n",
      "Position: F\n",
      "Annual Salary: $41,180,544.00\n",
      "Game Version: NBA2k22\n",
      "-------\n",
      "Player URL Data: https://nba-database.org/Kawhi_Leonard\n",
      "Name: Kawhi Leonard\n",
      "Team: Los Angeles Clippers\n",
      "Position: F\n",
      "Annual Salary: $32,742,000.00\n",
      "Game Version: NBA2k20\n",
      "-------\n",
      "Player URL Data: https://nba-database.org/Kawhi_Leonard\n",
      "Name: Kawhi Leonard\n",
      "Team: Los Angeles Clippers\n",
      "Position: F\n",
      "Annual Salary: $32,742,000.00\n",
      "Game Version: NBA2k21\n",
      "-------\n",
      "Player URL Data: https://nba-database.org/Kawhi_Leonard\n",
      "Name: Kawhi Leonard\n",
      "Team: Los Angeles Clippers\n",
      "Position: F\n",
      "Annual Salary: $32,742,000.00\n",
      "Game Version: NBA2k22\n",
      "-------\n",
      "Player URL Data: https://nba-database.org/Kawhi_Leonard\n",
      "Name: Kawhi Leonard\n",
      "Team: Los Angeles Clippers\n",
      "Position: F\n",
      "Annual Salary: $34,379,100.00\n",
      "Game Version: NBA2k20\n",
      "-------\n",
      "Player URL Data: https://nba-database.org/Kawhi_Leonard\n",
      "Name: Kawhi Leonard\n",
      "Team: Los Angeles Clippers\n",
      "Position: F\n",
      "Annual Salary: $34,379,100.00\n",
      "Game Version: NBA2k21\n",
      "-------\n",
      "Player URL Data: https://nba-database.org/Kawhi_Leonard\n",
      "Name: Kawhi Leonard\n",
      "Team: Los Angeles Clippers\n",
      "Position: F\n",
      "Annual Salary: $34,379,100.00\n",
      "Game Version: NBA2k22\n",
      "-------\n",
      "Player URL Data: https://nba-database.org/Kawhi_Leonard\n",
      "Name: Kawhi Leonard\n",
      "Team: Los Angeles Clippers\n",
      "Position: F\n",
      "Annual Salary: $39,344,900.00\n",
      "Game Version: NBA2k20\n",
      "-------\n",
      "Player URL Data: https://nba-database.org/Kawhi_Leonard\n",
      "Name: Kawhi Leonard\n",
      "Team: Los Angeles Clippers\n",
      "Position: F\n",
      "Annual Salary: $39,344,900.00\n",
      "Game Version: NBA2k21\n",
      "-------\n",
      "Player URL Data: https://nba-database.org/Kawhi_Leonard\n",
      "Name: Kawhi Leonard\n",
      "Team: Los Angeles Clippers\n",
      "Position: F\n",
      "Annual Salary: $39,344,900.00\n",
      "Game Version: NBA2k22\n",
      "-------\n",
      "Player URL Data: https://nba-database.org/Giannis_Antetokounmpo\n",
      "Name: Giannis Antetokounmpo\n",
      "Team: Milwaukee Bucks\n",
      "Position: F-G\n",
      "Annual Salary: $25,842,697.00\n",
      "Game Version: NBA2k20\n",
      "-------\n",
      "Player URL Data: https://nba-database.org/Giannis_Antetokounmpo\n",
      "Name: Giannis Antetokounmpo\n",
      "Team: Milwaukee Bucks\n",
      "Position: F-G\n",
      "Annual Salary: $25,842,697.00\n",
      "Game Version: NBA2k21\n",
      "-------\n",
      "Player URL Data: https://nba-database.org/Giannis_Antetokounmpo\n",
      "Name: Giannis Antetokounmpo\n",
      "Team: Milwaukee Bucks\n",
      "Position: F-G\n",
      "Annual Salary: $25,842,697.00\n",
      "Game Version: NBA2k22\n",
      "-------\n",
      "Player URL Data: https://nba-database.org/Giannis_Antetokounmpo\n",
      "Name: Giannis Antetokounmpo\n",
      "Team: Milwaukee Bucks\n",
      "Position: F-G\n",
      "Annual Salary: $27,528,088.00\n",
      "Game Version: NBA2k20\n",
      "-------\n",
      "Player URL Data: https://nba-database.org/Giannis_Antetokounmpo\n",
      "Name: Giannis Antetokounmpo\n",
      "Team: Milwaukee Bucks\n",
      "Position: F-G\n",
      "Annual Salary: $27,528,088.00\n",
      "Game Version: NBA2k21\n",
      "-------\n",
      "Player URL Data: https://nba-database.org/Giannis_Antetokounmpo\n",
      "Name: Giannis Antetokounmpo\n",
      "Team: Milwaukee Bucks\n",
      "Position: F-G\n",
      "Annual Salary: $27,528,088.00\n",
      "Game Version: NBA2k22\n",
      "-------\n",
      "Player URL Data: https://nba-database.org/Giannis_Antetokounmpo\n",
      "Name: Giannis Antetokounmpo\n",
      "Team: Milwaukee Bucks\n",
      "Position: F-G\n",
      "Annual Salary: $39,344,900.00\n",
      "Game Version: NBA2k20\n",
      "-------\n"
     ]
    },
    {
     "data": {
      "text/plain": "'data_ask_query.dot.svg'"
     },
     "execution_count": 11,
     "metadata": {},
     "output_type": "execute_result"
    }
   ],
   "source": [
    "query_str = \"\"\"\n",
    "ASK\n",
    "WHERE {\n",
    "  nba:LeBron_James nba_player:rating ?rating .\n",
    "  FILTER (?rating > 80)\n",
    "}\n",
    "\"\"\"\n",
    "\n",
    "dot_graph_query2 = Digraph(comment='ASK Query', format='svg')\n",
    "rating_above_80 = False\n",
    "\n",
    "for s, p, o in graph:\n",
    "    if p == RDF.type and o == nba_types_namespace.Player:\n",
    "        subject = s\n",
    "        full_name = str(graph.value(s, nba_player.full_name))\n",
    "\n",
    "        if full_name == 'LeBron James':\n",
    "            rating = str(graph.value(s, nba_player.rating))\n",
    "            dot_graph_query2.node(full_name)\n",
    "            dot_graph_query2.node(rating)\n",
    "            dot_graph_query2.edge(full_name, rating, label=\"hasRating\")\n",
    "            rating_above_80 = float(rating) > 80\n",
    "            break\n",
    "\n",
    "# dot_graph_query2.render('data_ask_query.dot', view=False)\n",
    "\n",
    "print(\"Does LeBron James' rating is above 80? \")\n",
    "if rating_above_80:\n",
    "    print(\"Yes, his rating is above 80 For Sure, Obviously.\")\n",
    "    print(\"-------\")\n",
    "else:\n",
    "    print(\"No, his rating is not above 80.\")\n",
    "    print(\"-------\")\n",
    "\n",
    "print(\"Player Data for those with rating above 80:\")\n",
    "for row in query_result:\n",
    "    player_data = {\n",
    "        \"full_name\": str(row['full_name']),\n",
    "        \"position\": str(row['position']),\n",
    "        \"team\": str(row['team']),\n",
    "        \"salary\": str(row['salary']),\n",
    "        \"version\": str(row['version']),\n",
    "    }\n",
    "    for prop, label in [(\"position\", \"hasPosition\"), (\"team\", \"currentTeam\"),\n",
    "                        (\"salary\", \"currentSalary\"), (\"version\", \"gameVersion\")]:\n",
    "        dot_graph_selectQuery.node(player_data[prop])\n",
    "        dot_graph_selectQuery.edge(player_data[\"full_name\"], player_data[prop], label=label)\n",
    "\n",
    "    print(f\"Player URL Data: {row['player']}\")\n",
    "    print(f\"Name: {row['full_name']}\")\n",
    "    print(f\"Team: {row['team']}\")\n",
    "    print(f\"Position: {row['position']}\")\n",
    "    print(f\"Annual Salary: {row['salary']}\")\n",
    "    print(f\"Game Version: {row['version']}\")\n",
    "    print(\"-------\")\n",
    "\n",
    "dot_graph_selectQuery.render('data_ask_query.dot', view=False)"
   ],
   "metadata": {
    "collapsed": false,
    "ExecuteTime": {
     "end_time": "2023-08-04T09:36:09.537615300Z",
     "start_time": "2023-08-04T09:36:09.331020500Z"
    }
   },
   "id": "4cdce594634d5a0d"
  },
  {
   "cell_type": "markdown",
   "source": [
    "## DESCRIBE Query"
   ],
   "metadata": {
    "collapsed": false
   },
   "id": "16127e9dc076bdbf"
  },
  {
   "cell_type": "code",
   "execution_count": 12,
   "outputs": [
    {
     "name": "stdout",
     "output_type": "stream",
     "text": [
      "@prefix nba: <https://nba-database.org/> .\n",
      "@prefix nba_player: <https://nba-database.org/profile#> .\n",
      "@prefix types: <https://nba-database.org/types#> .\n",
      "@prefix xsd: <http://www.w3.org/2001/XMLSchema#> .\n",
      "\n",
      "nba:LeBron_James a types:Player ;\n",
      "    nba_player:b_day \"1984-12-30\"^^xsd:date ;\n",
      "    nba_player:college \"No Data\" ;\n",
      "    nba_player:country \"USA\" ;\n",
      "    nba_player:draft_peak \"1\" ;\n",
      "    nba_player:draft_round \"1\" ;\n",
      "    nba_player:draft_year 2003 ;\n",
      "    nba_player:full_name \"LeBron James\" ;\n",
      "    nba_player:height \"6-9 / 2.06\" ;\n",
      "    nba_player:jersey \"#23\",\n",
      "        \"#6\" ;\n",
      "    nba_player:position \"F\" ;\n",
      "    nba_player:rating 96,\n",
      "        97 ;\n",
      "    nba_player:salary \"$37,436,858.00\",\n",
      "        \"$39,219,566.00\",\n",
      "        \"$41,180,544.00\" ;\n",
      "    nba_player:team \"Los Angeles Lakers\" ;\n",
      "    nba_player:version \"NBA2k20\",\n",
      "        \"NBA2k21\",\n",
      "        \"NBA2k22\" ;\n",
      "    nba_player:weight \"250 lbs. / 113.4 kg.\" .\n",
      "\n"
     ]
    },
    {
     "data": {
      "text/plain": "'data_describe_query.dot.svg'"
     },
     "execution_count": 12,
     "metadata": {},
     "output_type": "execute_result"
    }
   ],
   "source": [
    "query_str = \"\"\"\n",
    "DESCRIBE ?player\n",
    "WHERE {\n",
    "  ?player nba_player:full_name ?full_name .\n",
    "  FILTER(?full_name = \"LeBron James\")\n",
    "}\n",
    "\"\"\"\n",
    "query_result = g.query(query_str)\n",
    "\n",
    "print(query_result.serialize(format='turtle').decode())\n",
    "\n",
    "dot_graph_describeQuery = Digraph(comment='DESCRIBE Query', format='svg')\n",
    "\n",
    "lebron_data = {}\n",
    "\n",
    "for s, p, o in query_result:\n",
    "    lebron_data.setdefault(s, {})\n",
    "    lebron_data[s][p] = o\n",
    "\n",
    "for s, p, o in graph:\n",
    "    if p == RDF.type and o == nba_types_namespace.Player:\n",
    "        subject = s\n",
    "        full_name = lebron_data.get(subject, {}).get(nba_player.full_name)\n",
    "        if full_name == 'LeBron James':\n",
    "            dot_graph_describeQuery.node(full_name)\n",
    "            for prop in [nba_player.rating, nba_player.jersey, nba_player.team,\n",
    "                         nba_player.position, nba_player.b_day, nba_player.height,\n",
    "                         nba_player.weight, nba_player.salary, nba_player.country]:\n",
    "                value = lebron_data.get(subject, {}).get(prop)\n",
    "                if value is not None:\n",
    "                    dot_graph_describeQuery.node(value)\n",
    "                    dot_graph_describeQuery.edge(full_name, value, label=f\"has{prop.split(':')[-1]}\")\n",
    "\n",
    "dot_graph_describeQuery.render('data_describe_query.dot', view=False)"
   ],
   "metadata": {
    "collapsed": false,
    "ExecuteTime": {
     "end_time": "2023-08-04T09:36:09.614871800Z",
     "start_time": "2023-08-04T09:36:09.503613Z"
    }
   },
   "id": "c5b31b267a7f0cb9"
  },
  {
   "cell_type": "markdown",
   "source": [
    "## AGGREGATE Query"
   ],
   "metadata": {
    "collapsed": false
   },
   "id": "c142feb5d00c071c"
  },
  {
   "cell_type": "code",
   "execution_count": 13,
   "outputs": [
    {
     "name": "stdout",
     "output_type": "stream",
     "text": [
      "How many people come from Kentucky? There are: 26 people.\n"
     ]
    },
    {
     "data": {
      "text/plain": "'data_aggregate_college.dot.svg'"
     },
     "execution_count": 13,
     "metadata": {},
     "output_type": "execute_result"
    }
   ],
   "source": [
    "query_str = \"\"\"\n",
    "SELECT (COUNT(?college) as ?count_college)\n",
    "WHERE {\n",
    "  ?nba_player nba_player:college ?college .\n",
    "  FILTER(?college = \"Kentucky\")\n",
    "}\n",
    "\"\"\"\n",
    "\n",
    "dot_graph_aggregate_college = Digraph(comment='AGGREGATE Query (College)', format='svg')\n",
    "player_data = {}\n",
    "\n",
    "for s, p, o in graph:\n",
    "    if p == RDF.type and o == nba_types_namespace.Player:\n",
    "        college = str(graph.value(s, nba_player.college))\n",
    "        if college == 'Kentucky':\n",
    "            full_name = str(graph.value(s, nba_player.full_name))\n",
    "            dot_graph_aggregate_college.node(full_name)\n",
    "            dot_graph_aggregate_college.node(college)\n",
    "            dot_graph_aggregate_college.edge(full_name, college, label=\"fromCollege\")\n",
    "            player_data[full_name] = {\"college\": college}\n",
    "\n",
    "query_result = g.query(query_str)\n",
    "\n",
    "for row in query_result:\n",
    "    count_college = int(row['count_college'])\n",
    "    if count_college > 0:\n",
    "        college_name = \"Kentucky\"\n",
    "        print(f\"How many people come from {college_name}? There are: {count_college} people.\")\n",
    "        for full_name, data in player_data.items():\n",
    "            if data[\"college\"] == college_name:\n",
    "                dot_graph_aggregate_college.node(full_name)\n",
    "                dot_graph_aggregate_college.edge(full_name, college_name, label=\"fromCollege\")\n",
    "\n",
    "dot_graph_aggregate_college.render('data_aggregate_college.dot', view=False)"
   ],
   "metadata": {
    "collapsed": false,
    "ExecuteTime": {
     "end_time": "2023-08-04T09:36:09.740812Z",
     "start_time": "2023-08-04T09:36:09.613871300Z"
    }
   },
   "id": "5cf2625d77fd36aa"
  },
  {
   "cell_type": "code",
   "execution_count": 14,
   "outputs": [
    {
     "name": "stdout",
     "output_type": "stream",
     "text": [
      "How many people have a rating below 80? There are: 339 people.\n"
     ]
    },
    {
     "data": {
      "text/plain": "'data_aggregate_rating.dot.svg'"
     },
     "execution_count": 14,
     "metadata": {},
     "output_type": "execute_result"
    }
   ],
   "source": [
    "query_str = \"\"\"\n",
    "SELECT (COUNT(?rating) as ?rating_count)\n",
    "WHERE {\n",
    "  ?nba_player nba_player:rating ?rating .\n",
    "  FILTER(?rating < 80)\n",
    "}\n",
    "\"\"\"\n",
    "\n",
    "dot_graph_aggregate_rating = Digraph(comment='AGGREGATE Query (Rating)', format='svg')\n",
    "player_data = {}\n",
    "\n",
    "for s, p, o in graph:\n",
    "    if p == RDF.type and o == nba_types_namespace.Player:\n",
    "        rating = str(graph.value(s, nba_player.rating))\n",
    "        if int(rating) < 80:\n",
    "            full_name = str(graph.value(s, nba_player.full_name))\n",
    "            dot_graph_aggregate_rating.node(full_name)\n",
    "            dot_graph_aggregate_rating.node(rating)\n",
    "            dot_graph_aggregate_rating.edge(full_name, rating, label=\"yearDrafted\")\n",
    "            player_data[full_name] = {\"rating\": rating}\n",
    "\n",
    "query_result = g.query(query_str)\n",
    "\n",
    "for row in query_result:\n",
    "    rating_count = int(row['rating_count'])\n",
    "    if rating_count > 0:\n",
    "        print(f\"How many people have a rating below 80? There are: {rating_count} people.\")\n",
    "        for full_name, data in player_data.items():\n",
    "            if int(data[\"rating\"]) < 80:\n",
    "                dot_graph_aggregate_rating.node(full_name)\n",
    "                dot_graph_aggregate_rating.edge(full_name, data[\"rating\"], label=\"yearDrafted\")\n",
    "\n",
    "dot_graph_aggregate_rating.render('data_aggregate_rating.dot', view=False)\n"
   ],
   "metadata": {
    "collapsed": false,
    "ExecuteTime": {
     "end_time": "2023-08-04T09:36:10.032397700Z",
     "start_time": "2023-08-04T09:36:09.743814500Z"
    }
   },
   "id": "3e13486b50e18d1"
  },
  {
   "cell_type": "markdown",
   "source": [
    "## NESTED Query"
   ],
   "metadata": {
    "collapsed": false
   },
   "id": "5d7cac65076b5c77"
  },
  {
   "cell_type": "code",
   "execution_count": 15,
   "outputs": [
    {
     "name": "stdout",
     "output_type": "stream",
     "text": [
      "List of players from Los Angeles Lakers playing in Position 'F' are 6 people:\n",
      "1. Player Name: Glenn Robinson III\n",
      "2. Player Name: Kevon Looney\n",
      "3. Player Name: Alen Smailagic\n",
      "4. Player Name: Eric Paschall\n",
      "5. Player Name: Andrew Wiggins\n",
      "6. Player Name: Draymond Green\n"
     ]
    }
   ],
   "source": [
    "query_str = \"\"\"\n",
    "SELECT (COUNT(?player) as ?count_players)\n",
    "WHERE {\n",
    "  ?player nba_player:full_name ?full_name;\n",
    "          nba_player:position \"F\";\n",
    "          nba_player:team \"Golden State Warriors\".\n",
    "}\n",
    "\"\"\"\n",
    "\n",
    "dot_graph_federatedQuery = Digraph(comment='NESTED Query', format='svg')\n",
    "player_names = []\n",
    "\n",
    "for s, p, o in graph:\n",
    "    if p == RDF.type and o == nba_types_namespace.Player:\n",
    "        position = str(graph.value(s, nba_player.position))\n",
    "        team = str(graph.value(s, nba_player.team))\n",
    "        if position == 'F' and team == 'Golden State Warriors':\n",
    "            full_name = str(graph.value(s, nba_player.full_name))\n",
    "            dot_graph_federatedQuery.node(full_name)\n",
    "            dot_graph_federatedQuery.node(position)\n",
    "            dot_graph_federatedQuery.node(team)\n",
    "            dot_graph_federatedQuery.edge(full_name, position, label=\"hasPosition\")\n",
    "            dot_graph_federatedQuery.edge(full_name, team, label=\"fromTeam\")\n",
    "            player_names.append(full_name)\n",
    "\n",
    "# dot_graph_federatedQuery.render('data_nested-query.dot', view=False)\n",
    "\n",
    "query_result = g.query(query_str)\n",
    "\n",
    "index = 1\n",
    "for row in query_result:\n",
    "    count_players = int(row['count_players'])\n",
    "\n",
    "    print(f\"List of players from Los Angeles Lakers playing in Position 'F' are {count_players} people:\")\n",
    "    for player_name in player_names:\n",
    "        print(f\"{index}. Player Name: {player_name}\")\n",
    "        index += 1"
   ],
   "metadata": {
    "collapsed": false,
    "ExecuteTime": {
     "end_time": "2023-08-04T09:36:10.070681700Z",
     "start_time": "2023-08-04T09:36:10.029398500Z"
    }
   },
   "id": "cf5b1453c53af38d"
  },
  {
   "cell_type": "markdown",
   "source": [
    "## FEDERATED QUERY"
   ],
   "metadata": {
    "collapsed": false
   },
   "id": "2e5c7e9cb283d393"
  },
  {
   "cell_type": "code",
   "execution_count": 22,
   "outputs": [
    {
     "ename": "TypeError",
     "evalue": "'>' not supported between instances of 'str' and 'int'",
     "output_type": "error",
     "traceback": [
      "\u001B[1;31m---------------------------------------------------------------------------\u001B[0m",
      "\u001B[1;31mTypeError\u001B[0m                                 Traceback (most recent call last)",
      "Cell \u001B[1;32mIn[22], line 29\u001B[0m\n\u001B[0;32m     27\u001B[0m rating \u001B[38;5;241m=\u001B[39m \u001B[38;5;28mstr\u001B[39m(graph\u001B[38;5;241m.\u001B[39mvalue(s, nba_player\u001B[38;5;241m.\u001B[39mrating))\n\u001B[0;32m     28\u001B[0m salary \u001B[38;5;241m=\u001B[39m graph\u001B[38;5;241m.\u001B[39mvalue(s, nba_player\u001B[38;5;241m.\u001B[39msalary)\n\u001B[1;32m---> 29\u001B[0m \u001B[38;5;28;01mif\u001B[39;00m team \u001B[38;5;241m==\u001B[39m \u001B[38;5;124m'\u001B[39m\u001B[38;5;124mBrooklyn Nets\u001B[39m\u001B[38;5;124m'\u001B[39m \u001B[38;5;129;01mand\u001B[39;00m \u001B[43mrating\u001B[49m\u001B[43m \u001B[49m\u001B[38;5;241;43m>\u001B[39;49m\u001B[43m \u001B[49m\u001B[38;5;241;43m90\u001B[39;49m:\n\u001B[0;32m     30\u001B[0m     full_name \u001B[38;5;241m=\u001B[39m \u001B[38;5;28mstr\u001B[39m(graph\u001B[38;5;241m.\u001B[39mvalue(s, nba_player\u001B[38;5;241m.\u001B[39mfull_name))\n\u001B[0;32m     31\u001B[0m     dot_graph_federatedQuery\u001B[38;5;241m.\u001B[39mnode(full_name)\n",
      "\u001B[1;31mTypeError\u001B[0m: '>' not supported between instances of 'str' and 'int'"
     ]
    }
   ],
   "source": [
    "from rdflib import ConjunctiveGraph\n",
    "\n",
    "cg = ConjunctiveGraph()\n",
    "cg.add((nba_player.Player, nba_player.full_name, Literal(\"James Harden\")))\n",
    "\n",
    "query_str = \"\"\"\n",
    "PREFIX nba_player: <https://nba-database.org/profile#>\n",
    "\n",
    "SELECT ?player ?full_name ?rating ?salary ?team ?position\n",
    "WHERE {\n",
    "  SERVICE <https://nba-players.org/profile/james_harden> {\n",
    "    ?player a nba_player:Player ;\n",
    "            nba_player:full_name ?full_name ;\n",
    "            nba_player:rating ?rating ;\n",
    "            nba_player:salary ?salary ;\n",
    "            nba_player:team ?team ;\n",
    "            nba_player:position ?position.\n",
    "  }\n",
    "}\n",
    "\"\"\"\n",
    "\n",
    "query_result = g.query(query_str)\n",
    "\n",
    "for s, p, o in graph:\n",
    "    if p == RDF.type and o == nba_types_namespace.Player:\n",
    "        team = str(graph.value(s, nba_player.team))\n",
    "        rating = str(graph.value(s, nba_player.rating))\n",
    "        salary = graph.value(s, nba_player.salary)\n",
    "        if team == 'Brooklyn Nets' and rating > 90:\n",
    "            full_name = str(graph.value(s, nba_player.full_name))\n",
    "            dot_graph_federatedQuery.node(full_name)\n",
    "            dot_graph_federatedQuery.node(team)\n",
    "            dot_graph_federatedQuery.node(salary)\n",
    "            dot_graph_federatedQuery.edge(full_name, team, label=\"fromTeam\")\n",
    "            dot_graph_federatedQuery.edge(full_name, salary, label=\"hasAnnualSalary\")\n",
    "            player_names.append(full_name)"
   ],
   "metadata": {
    "collapsed": false,
    "ExecuteTime": {
     "end_time": "2023-08-04T09:39:43.737809300Z",
     "start_time": "2023-08-04T09:39:43.702793500Z"
    }
   },
   "id": "6be72d92baa6e2b9"
  },
  {
   "cell_type": "markdown",
   "source": [
    "**Note**, I have a confusion in federated query which I do not really well understand about it."
   ],
   "metadata": {
    "collapsed": false
   },
   "id": "4d7136438b016ae7"
  }
 ],
 "metadata": {
  "kernelspec": {
   "display_name": "Python 3",
   "language": "python",
   "name": "python3"
  },
  "language_info": {
   "codemirror_mode": {
    "name": "ipython",
    "version": 2
   },
   "file_extension": ".py",
   "mimetype": "text/x-python",
   "name": "python",
   "nbconvert_exporter": "python",
   "pygments_lexer": "ipython2",
   "version": "2.7.6"
  }
 },
 "nbformat": 4,
 "nbformat_minor": 5
}
